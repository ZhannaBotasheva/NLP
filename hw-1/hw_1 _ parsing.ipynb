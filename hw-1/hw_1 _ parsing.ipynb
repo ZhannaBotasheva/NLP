{
 "cells": [
  {
   "cell_type": "markdown",
   "id": "47b3373e",
   "metadata": {},
   "source": [
    "## HW 1\n",
    "Botasheva Zhanna"
   ]
  },
  {
   "cell_type": "markdown",
   "id": "f90acced",
   "metadata": {},
   "source": [
    "## Откуда берутся датасеты?"
   ]
  },
  {
   "cell_type": "markdown",
   "id": "134092c9",
   "metadata": {},
   "source": [
    "### Часть 1. Парсинг"
   ]
  },
  {
   "cell_type": "markdown",
   "id": "c8a60639",
   "metadata": {},
   "source": [
    "Я хочу распарсить сайт [chitai-gorod.ru/](https://www.chitai-gorod.ru/sales) и получить следующую информацию:\n",
    "\n",
    "- **Name** – название книги,\n",
    "- **Author** – автор,\n",
    "- **About** – текстовое описание,\n",
    "- **Rating** – рейтинг,\n",
    "- **ID** – ID товара,\n",
    "- **Year** – год издания,\n",
    "- **Number of pages** – кол-вл страниц,\n",
    "- **Price** - цена."
   ]
  },
  {
   "cell_type": "code",
   "execution_count": 5,
   "id": "ba6a322f",
   "metadata": {},
   "outputs": [],
   "source": [
    "import warnings\n",
    "warnings.filterwarnings(\"ignore\")"
   ]
  },
  {
   "cell_type": "code",
   "execution_count": 72,
   "id": "94c4ecb1",
   "metadata": {},
   "outputs": [],
   "source": [
    "import requests      # Библиотека для отправки запросов\n",
    "import numpy as np   # Библиотека для матриц, векторов и линала\n",
    "import pandas as pd  # Библиотека для табличек\n",
    "import time          # Библиотека для времени"
   ]
  },
  {
   "cell_type": "code",
   "execution_count": 3,
   "id": "f460bb11",
   "metadata": {},
   "outputs": [],
   "source": [
    "page_link = 'https://www.chitai-gorod.ru/sales'"
   ]
  },
  {
   "cell_type": "code",
   "execution_count": 4,
   "id": "eb6850b4",
   "metadata": {},
   "outputs": [],
   "source": [
    "# подгрузим один из методов этой библиотеки\n",
    "from fake_useragent import UserAgent"
   ]
  },
  {
   "cell_type": "code",
   "execution_count": 5,
   "id": "9335eaff",
   "metadata": {},
   "outputs": [
    {
     "data": {
      "text/plain": [
       "'Mozilla/5.0 (Linux; Android 10; K) AppleWebKit/537.36 (KHTML, like Gecko) Chrome/122.0.0.0 Mobile Safari/537.36'"
      ]
     },
     "execution_count": 5,
     "metadata": {},
     "output_type": "execute_result"
    }
   ],
   "source": [
    "UserAgent().chrome"
   ]
  },
  {
   "cell_type": "code",
   "execution_count": 6,
   "id": "ffe385b9",
   "metadata": {},
   "outputs": [
    {
     "data": {
      "text/plain": [
       "<Response [200]>"
      ]
     },
     "execution_count": 6,
     "metadata": {},
     "output_type": "execute_result"
    }
   ],
   "source": [
    "# request meme page with chrome user agent\n",
    "response = requests.get(page_link, headers={'User-Agent': UserAgent().chrome})\n",
    "response"
   ]
  },
  {
   "cell_type": "code",
   "execution_count": 7,
   "id": "1d2099f5",
   "metadata": {},
   "outputs": [
    {
     "data": {
      "text/plain": [
       "requests.models.Response"
      ]
     },
     "execution_count": 7,
     "metadata": {},
     "output_type": "execute_result"
    }
   ],
   "source": [
    "type(response)"
   ]
  },
  {
   "cell_type": "code",
   "execution_count": 8,
   "id": "74c4f07a",
   "metadata": {},
   "outputs": [],
   "source": [
    "html = response.content"
   ]
  },
  {
   "cell_type": "code",
   "execution_count": 9,
   "id": "0f06ce5b",
   "metadata": {},
   "outputs": [
    {
     "data": {
      "text/plain": [
       "b'<!doctype html>\\n<html data-n-head-ssr lang=\"ru\" data-n-head=\"%7B%22lang%22:%7B%22ssr%22:%22ru%22%7D%7D\">\\n  <head itemscope itemtype=\"https://schema.org/WPHeader\" data-n-head=\"%7B%22itemscope%22:%7B%22ssr%22:true%7D,%22itemtype%22:%7B%22ssr%22:%22https://schema.org/WPHeader%22%7D%7D\">\\n    <meta data-n-head=\"ssr\" charset=\"utf-8\"><meta data-n-head=\"ssr\" name=\"viewport\" content=\"width=device-width, initial-scale=1.0\"><meta data-n-head=\"ssr\" name=\"format-detection\" content=\"telephone=no\"><meta data-n-head=\"ssr\" name=\"robots\" content=\"noyaca\"><meta data-n-head=\"ssr\" name=\"application-name\" content=\"\\xd0\\x98\\xd0\\xbd\\xd1\\x82\\xd0\\xb5\\xd1\\x80\\xd0\\xbd\\xd0\\xb5\\xd1\\x82-\\xd0\\xbc\\xd0\\xb0\\xd0\\xb3\\xd0\\xb0\\xd0\\xb7\\xd0\\xb8\\xd0\\xbd \\xd0\\xba\\xd0\\xbd\\xd0\\xb8\\xd0\\xb3 \\xc2\\xab\\xd0\\xa7\\xd0\\xb8\\xd1\\x82\\xd0\\xb0\\xd0\\xb9-\\xd0\\xb3\\xd0\\xbe\\xd1\\x80\\xd0\\xbe\\xd0\\xb4\\xc2\\xbb. \\xd0\\x9a\\xd1\\x83\\xd0\\xbf\\xd0\\xb8\\xd1\\x82\\xd1\\x8c \\xd0\\xba\\xd0\\xbd\\xd0\\xb8\\xd0\\xb3\\xd0\\xb8 \\xd1\\x87\\xd0\\xb5\\xd1\\x80\\xd0\\xb5\\xd0\\xb7 \\xd0\\xb8\\xd0\\xbd\\xd1\\x82\\xd0\\xb5\\xd1\\x80\\xd0\\xbd\\xd0\\xb5\\xd1\\x82 \\xd0\\xbc\\xd0\\xb0\\xd0\\xb3\\xd0\\xb0\\xd0\\xb7\\xd0\\xb8\\xd0\\xbd \\xd0\\xb2 \\xd0\\x9c\\xd0\\xbe\\xd1\\x81\\xd0\\xba\\xd0\\xb2\\xd0\\xb5 \\xd0\\xb8 \\xd0\\xb4\\xd1\\x80\\xd1\\x83\\xd0\\xb3\\xd0\\xb8\\xd1\\x85 \\xd0\\xb3\\xd0\\xbe\\xd1\\x80\\xd0\\xbe\\xd0\\xb4\\xd0\\xb0\\xd1\\x85\"><meta data-n-head=\"ssr\" name=\"yandex-verification\" content=\"d9d079be8c5ddb29\"><meta data-n-head=\"ssr\" name=\"Petal-Search-site-verification\" content=\"37821f5aa5\"><meta data-n-head=\"ssr\" name=\"google-site-verification\" '"
      ]
     },
     "execution_count": 9,
     "metadata": {},
     "output_type": "execute_result"
    }
   ],
   "source": [
    "html[:1000]"
   ]
  },
  {
   "cell_type": "code",
   "execution_count": 10,
   "id": "e774c246",
   "metadata": {},
   "outputs": [
    {
     "data": {
      "text/plain": [
       "b'rod.ru/042252a.modern.js\" defer></script><script nomodule src=\"https://static.chitai-gorod.ru/d76530d.js\" defer></script><script nomodule src=\"https://static.chitai-gorod.ru/24635bf.js\" defer></script><script type=\"module\" src=\"https://static.chitai-gorod.ru/b9a9a0d.modern.js\" defer></script><script nomodule src=\"https://static.chitai-gorod.ru/6ac62e5.js\" defer></script><script type=\"module\" src=\"https://static.chitai-gorod.ru/93846c5.modern.js\" defer></script><script nomodule src=\"https://static.chitai-gorod.ru/e6de543.js\" defer></script><script type=\"module\" src=\"https://static.chitai-gorod.ru/7b2e31f.modern.js\" defer></script><script nomodule src=\"https://static.chitai-gorod.ru/35a25fd.js\" defer></script><script type=\"module\" src=\"https://static.chitai-gorod.ru/4acfd1b.modern.js\" defer></script><script nomodule src=\"https://static.chitai-gorod.ru/25e975a.js\" defer></script><script type=\"module\" src=\"https://static.chitai-gorod.ru/b6ceaf2.modern.js\" defer></script>\\n  </body>\\n</html>\\n'"
      ]
     },
     "execution_count": 10,
     "metadata": {},
     "output_type": "execute_result"
    }
   ],
   "source": [
    "html[-1000:]"
   ]
  },
  {
   "cell_type": "code",
   "execution_count": 11,
   "id": "f74c7b95",
   "metadata": {},
   "outputs": [
    {
     "data": {
      "text/plain": [
       "623492"
      ]
     },
     "execution_count": 11,
     "metadata": {},
     "output_type": "execute_result"
    }
   ],
   "source": [
    "len(html)"
   ]
  },
  {
   "cell_type": "code",
   "execution_count": 12,
   "id": "62e2b96d",
   "metadata": {},
   "outputs": [
    {
     "data": {
      "text/plain": [
       "bytes"
      ]
     },
     "execution_count": 12,
     "metadata": {},
     "output_type": "execute_result"
    }
   ],
   "source": [
    "type(html)"
   ]
  },
  {
   "cell_type": "code",
   "execution_count": 13,
   "id": "cce15dd1",
   "metadata": {},
   "outputs": [],
   "source": [
    "from bs4 import BeautifulSoup"
   ]
  },
  {
   "cell_type": "code",
   "execution_count": 14,
   "id": "e68b50f3",
   "metadata": {},
   "outputs": [],
   "source": [
    "soup = BeautifulSoup(html, 'html.parser') # В опции также можно указать lxml,\n",
    "                                         # если предварительно установить одноименный пакет"
   ]
  },
  {
   "cell_type": "code",
   "execution_count": 15,
   "id": "1a1d84ea",
   "metadata": {},
   "outputs": [
    {
     "data": {
      "text/plain": [
       "bs4.BeautifulSoup"
      ]
     },
     "execution_count": 15,
     "metadata": {},
     "output_type": "execute_result"
    }
   ],
   "source": [
    "type(soup)"
   ]
  },
  {
   "cell_type": "code",
   "execution_count": 16,
   "id": "972fbc95",
   "metadata": {},
   "outputs": [
    {
     "name": "stdout",
     "output_type": "stream",
     "text": [
      "<!DOCTYPE html>\n",
      "<html data-n-head=\"%7B%22lang%22:%7B%22ssr%22:%22ru%22%7D%7D\" data-n-head-ssr=\"\" lang=\"ru\">\n",
      " <head data-n-head=\"%7B%22itemscope%22:%7B%22ssr%22:true%7D,%22itemtype%22:%7B%22ssr%22:%22https://schema.org/WPHeader%22%7D%7D\" itemscope=\"\" itemtype=\"https://schema.org/WPHeader\">\n",
      "  <meta charset=\"utf-8\" data-n-head=\"ssr\"/>\n",
      "  <meta content=\"width=device-width, initial-scale=1.0\" data-n-head=\"ssr\" name=\"viewport\"/>\n",
      "  <meta content=\"telephone=no\" data-n-head=\"ssr\" name=\"format-detection\"/>\n",
      "  <meta content=\"noyaca\" data-n-head=\"ssr\" name=\"robots\"/>\n",
      "  <meta content=\"Интернет-магазин книг «Читай-город». Купить книги через интернет магазин в Москве и других городах\" data-n-head=\"ssr\" name=\"application-name\"/>\n",
      "  <meta content=\"d9d079be8c5ddb29\" data-n-head=\"ssr\" name=\"yandex-verification\"/>\n",
      "  <meta content=\"37821f5aa5\" data-n-head=\"ssr\" name=\"Petal-Search-site-verification\"/>\n",
      "  <meta content=\"RJ1ruqSqJyUrQNB7V5Hg9xUPXzjLqmbxdlmsNtXs6Gs\" data-n-head=\"ssr\" name=\"google-site-verification\"/>\n",
      "  <meta content=\"\" data-hid=\"keywords\" data-n-head=\"ssr\" itemprop=\"keywords\" name=\"keywords\"/>\n",
      "  <meta content=\"website\" data-hid=\"og:type\" data-n-head=\"ssr\" name=\"og:type\"/>\n",
      "  <meta content=\"/social-share-image.jpg\" data-hid=\"og:image\" data-n-head=\"ssr\" name=\"og:image\"/>\n",
      "  <meta content=\"upgrade-insecure-requests; script-src 'self' 'unsafe-inline' 'unsafe-eval' *.chitai-gorod.ru *.cgorod.pw api-maps.yandex.ru suggest-maps.yandex.ru *.maps.yandex.net top-fwz1.mail.ru event.getblue.io ad.mail.ru *.mindbox.ru *.jivosite.com *.jivo.ru *.facebook.net vk.com *.vk.com gdeslon.ru *.gdeslon.ru creativecdn.com *.creativecdn.com aprtx.com aprtn.com google.com google.ru *.google.com *.google.ru www.googletagmanager.com www.googleadservices.com www.google-analytics.com www.gstatic.com sakesap.ru *.sakesap.ru connect.ok.ru platform.twitter.com syndication.twitter.com cdn.syndication.twimg.com *.doubleclick.net www.mainadv.com clk.solocpm.com aebdgd.ru *.aebdgd.ru s4fmvl.ru *.s4fmvl.ru creativec\n"
     ]
    }
   ],
   "source": [
    "print(soup.prettify()[:2000])"
   ]
  },
  {
   "cell_type": "code",
   "execution_count": 17,
   "id": "a8e4a6ba",
   "metadata": {},
   "outputs": [
    {
     "data": {
      "text/plain": [
       "<title>Книжная распродажа в «Читай-город» – купить книги по выгодной цене с доставкой по всей России</title>"
      ]
     },
     "execution_count": 17,
     "metadata": {},
     "output_type": "execute_result"
    }
   ],
   "source": [
    "soup.html.head.title"
   ]
  },
  {
   "cell_type": "code",
   "execution_count": 18,
   "id": "1c892543",
   "metadata": {},
   "outputs": [
    {
     "data": {
      "text/plain": [
       "bs4.element.Tag"
      ]
     },
     "execution_count": 18,
     "metadata": {},
     "output_type": "execute_result"
    }
   ],
   "source": [
    "type(soup.html.head.title)"
   ]
  },
  {
   "cell_type": "code",
   "execution_count": 19,
   "id": "5c7785e4",
   "metadata": {},
   "outputs": [
    {
     "data": {
      "text/plain": [
       "'Книжная распродажа в «Читай-город» – купить книги по выгодной цене с доставкой по всей России'"
      ]
     },
     "execution_count": 19,
     "metadata": {},
     "output_type": "execute_result"
    }
   ],
   "source": [
    "soup.html.head.title.text"
   ]
  },
  {
   "cell_type": "code",
   "execution_count": 20,
   "id": "c946722c",
   "metadata": {},
   "outputs": [
    {
     "data": {
      "text/plain": [
       "str"
      ]
     },
     "execution_count": 20,
     "metadata": {},
     "output_type": "execute_result"
    }
   ],
   "source": [
    "type(soup.html.head.title.text)"
   ]
  },
  {
   "cell_type": "code",
   "execution_count": 21,
   "id": "49a7474a",
   "metadata": {},
   "outputs": [
    {
     "data": {
      "text/plain": [
       "<a class=\"product-card__title\" href=\"/product/devushka-online-7467401\" target=\"_self\" title=\"Девушка Online\"><div class=\"product-title\"><div class=\"product-title__head\">\n",
       "    Девушка Online\n",
       "  </div> <div class=\"product-title__author\">\n",
       "    Зои Сагг\n",
       "  </div></div></a>"
      ]
     },
     "execution_count": 21,
     "metadata": {},
     "output_type": "execute_result"
    }
   ],
   "source": [
    "obj = soup.find('a', attrs = {'class':'product-card__title'})\n",
    "obj"
   ]
  },
  {
   "cell_type": "code",
   "execution_count": 22,
   "id": "602470df",
   "metadata": {},
   "outputs": [
    {
     "data": {
      "text/plain": [
       "['product-card__title']"
      ]
     },
     "execution_count": 22,
     "metadata": {},
     "output_type": "execute_result"
    }
   ],
   "source": [
    "obj.get(\"class\")"
   ]
  },
  {
   "cell_type": "code",
   "execution_count": 23,
   "id": "de1d8dd8",
   "metadata": {},
   "outputs": [
    {
     "data": {
      "text/plain": [
       "'/product/devushka-online-7467401'"
      ]
     },
     "execution_count": 23,
     "metadata": {},
     "output_type": "execute_result"
    }
   ],
   "source": [
    "obj.attrs['href']"
   ]
  },
  {
   "cell_type": "code",
   "execution_count": 24,
   "id": "1a32778c",
   "metadata": {},
   "outputs": [
    {
     "name": "stdout",
     "output_type": "stream",
     "text": [
      "Тип данных до вытаскивания ссылки: <class 'bs4.element.Tag'>\n",
      "Тип данных после вытаскивания ссылки: <class 'str'>\n"
     ]
    }
   ],
   "source": [
    "print(\"Тип данных до вытаскивания ссылки:\", type(obj))\n",
    "print(\"Тип данных после вытаскивания ссылки:\", type(obj.attrs['href']))"
   ]
  },
  {
   "cell_type": "code",
   "execution_count": 25,
   "id": "30f6d864",
   "metadata": {},
   "outputs": [
    {
     "data": {
      "text/plain": [
       "[<a class=\"product-card__title\" href=\"/product/devushka-online-7467401\" target=\"_self\" title=\"Девушка Online\"><div class=\"product-title\"><div class=\"product-title__head\">\n",
       "     Девушка Online\n",
       "   </div> <div class=\"product-title__author\">\n",
       "     Зои Сагг\n",
       "   </div></div></a>,\n",
       " <a class=\"product-card__title\" href=\"/product/myatnaya-skazka-specialnoe-izdanie-7740488\" target=\"_self\" title=\"Мятная сказка. Специальное издание\"><div class=\"product-title\"><div class=\"product-title__head\">\n",
       "     Мятная сказка. Специальное издание\n",
       "   </div> <div class=\"product-title__author\">\n",
       "     Александр Полярный\n",
       "   </div></div></a>,\n",
       " <a class=\"product-card__title\" href=\"/product/rennvind-serdce-tmy-7965332\" target=\"_self\" title=\"Реннвинд. Сердце тьмы\"><div class=\"product-title\"><div class=\"product-title__head\">\n",
       "     Реннвинд. Сердце тьмы\n",
       "   </div> <div class=\"product-title__author\">\n",
       "     Леа Стенберг\n",
       "   </div></div></a>]"
      ]
     },
     "execution_count": 25,
     "metadata": {},
     "output_type": "execute_result"
    }
   ],
   "source": [
    "book_links = soup.findAll(lambda tag: tag.name == 'a' and tag.get('class') == ['product-card__title'])\n",
    "book_links[:3]"
   ]
  },
  {
   "cell_type": "code",
   "execution_count": 26,
   "id": "d353692a",
   "metadata": {},
   "outputs": [
    {
     "data": {
      "text/plain": [
       "48"
      ]
     },
     "execution_count": 26,
     "metadata": {},
     "output_type": "execute_result"
    }
   ],
   "source": [
    "len(book_links)"
   ]
  },
  {
   "cell_type": "code",
   "execution_count": 27,
   "id": "3310ca6f",
   "metadata": {},
   "outputs": [],
   "source": [
    "book_links = [link.attrs['href'] for link in book_links]"
   ]
  },
  {
   "cell_type": "code",
   "execution_count": 28,
   "id": "5f677c61",
   "metadata": {},
   "outputs": [
    {
     "data": {
      "text/plain": [
       "['/product/devushka-online-7467401',\n",
       " '/product/myatnaya-skazka-specialnoe-izdanie-7740488',\n",
       " '/product/rennvind-serdce-tmy-7965332',\n",
       " '/product/transformator-3-v-chem-sila-bro-7769954',\n",
       " '/product/vse-eto-vremya-7820141',\n",
       " '/product/zlaya-lisica-7841391',\n",
       " '/product/tma-v-hrustalnoy-tufelke-7920439',\n",
       " '/product/koldovskoy-aprel-7882838',\n",
       " '/product/iskra-bogov-ne-ostavlyay-menya-7967839',\n",
       " '/product/zhivye-lyudi-7774475']"
      ]
     },
     "execution_count": 28,
     "metadata": {},
     "output_type": "execute_result"
    }
   ],
   "source": [
    "book_links[:10]"
   ]
  },
  {
   "cell_type": "code",
   "execution_count": 29,
   "id": "2cc13c8c",
   "metadata": {},
   "outputs": [],
   "source": [
    "def getPageLinks(page_number):\n",
    "    \"\"\"\n",
    "        Возвращает список ссылок на книги, полученный с текущей страницы\n",
    "\n",
    "        page_number: int/string\n",
    "            номер страницы для парсинга\n",
    "\n",
    "    \"\"\"\n",
    "    # составляем ссылку на страницу поиска\n",
    "    page_link = 'https://www.chitai-gorod.ru/sales?page={}'.format(page_number)\n",
    "\n",
    "    # запрашиваем данные по ней\n",
    "    response = requests.get(page_link, headers={'User-Agent': UserAgent().chrome})\n",
    "\n",
    "    if not response.ok:\n",
    "        # если сервер нам отказал, вернем пустой лист для текущей страницы\n",
    "        return []\n",
    "\n",
    "    # получаем содержимое страницы и переводим в суп\n",
    "    html = response.content\n",
    "    soup = BeautifulSoup(html,'html.parser')\n",
    "\n",
    "    # наконец, ищем ссылки на книги и очищаем их от ненужных тэгов\n",
    "    book_links = soup.findAll(lambda tag: tag.name == 'a' and tag.get('class') == ['product-card__title'])\n",
    "    book_links = ['https://www.chitai-gorod.ru' + link.attrs['href'] for link in book_links]\n",
    "\n",
    "    return book_links"
   ]
  },
  {
   "cell_type": "code",
   "execution_count": 30,
   "id": "17294bef",
   "metadata": {},
   "outputs": [
    {
     "data": {
      "text/plain": [
       "['https://www.chitai-gorod.ru/product/devushka-online-7467401',\n",
       " 'https://www.chitai-gorod.ru/product/myatnaya-skazka-specialnoe-izdanie-7740488']"
      ]
     },
     "execution_count": 30,
     "metadata": {},
     "output_type": "execute_result"
    }
   ],
   "source": [
    "book_links = getPageLinks(1)\n",
    "book_links[:2]"
   ]
  },
  {
   "cell_type": "code",
   "execution_count": 31,
   "id": "64bce3a1",
   "metadata": {},
   "outputs": [
    {
     "data": {
      "text/plain": [
       "['https://www.chitai-gorod.ru/product/tayna-proklyatogo-gercoga-kniga-1-ledi-ariella-uotorbi-7673102',\n",
       " 'https://www.chitai-gorod.ru/product/chudesnyy-nozh-7765850']"
      ]
     },
     "execution_count": 31,
     "metadata": {},
     "output_type": "execute_result"
    }
   ],
   "source": [
    "book_links = getPageLinks(2)\n",
    "book_links[:2]"
   ]
  },
  {
   "cell_type": "code",
   "execution_count": 32,
   "id": "aec94332",
   "metadata": {},
   "outputs": [],
   "source": [
    "book_page = 'https://www.chitai-gorod.ru/product/devushka-online-7467401'\n",
    "response = requests.get(book_page, headers={'User-Agent': UserAgent().chrome})\n",
    "\n",
    "html = response.content\n",
    "soup = BeautifulSoup(html,'html.parser')"
   ]
  },
  {
   "cell_type": "markdown",
   "id": "b732173c",
   "metadata": {},
   "source": [
    "Рейтинг"
   ]
  },
  {
   "cell_type": "code",
   "execution_count": 33,
   "id": "947c49db",
   "metadata": {},
   "outputs": [
    {
     "data": {
      "text/plain": [
       "<span class=\"product-review-range__count\">2.0</span>"
      ]
     },
     "execution_count": 33,
     "metadata": {},
     "output_type": "execute_result"
    }
   ],
   "source": [
    "raiting = soup.find(attrs={'class':'product-review-range__count'})\n",
    "raiting"
   ]
  },
  {
   "cell_type": "code",
   "execution_count": 34,
   "id": "789e8925",
   "metadata": {},
   "outputs": [
    {
     "data": {
      "text/plain": [
       "bs4.element.Tag"
      ]
     },
     "execution_count": 34,
     "metadata": {},
     "output_type": "execute_result"
    }
   ],
   "source": [
    "type(raiting)"
   ]
  },
  {
   "cell_type": "code",
   "execution_count": 35,
   "id": "491cb566",
   "metadata": {},
   "outputs": [
    {
     "data": {
      "text/plain": [
       "bs4.element.NavigableString"
      ]
     },
     "execution_count": 35,
     "metadata": {},
     "output_type": "execute_result"
    }
   ],
   "source": [
    "raiting = raiting.string\n",
    "type(raiting)"
   ]
  },
  {
   "cell_type": "code",
   "execution_count": 36,
   "id": "2b14abef",
   "metadata": {},
   "outputs": [
    {
     "data": {
      "text/plain": [
       "'2.0'"
      ]
     },
     "execution_count": 36,
     "metadata": {},
     "output_type": "execute_result"
    }
   ],
   "source": [
    "raiting"
   ]
  },
  {
   "cell_type": "code",
   "execution_count": 37,
   "id": "e996e5e4",
   "metadata": {},
   "outputs": [
    {
     "data": {
      "text/plain": [
       "2.0"
      ]
     },
     "execution_count": 37,
     "metadata": {},
     "output_type": "execute_result"
    }
   ],
   "source": [
    "raitings = float(raiting)\n",
    "raitings"
   ]
  },
  {
   "cell_type": "markdown",
   "id": "048f45c0",
   "metadata": {},
   "source": [
    "ID товара"
   ]
  },
  {
   "cell_type": "code",
   "execution_count": 38,
   "id": "3c8898c4",
   "metadata": {},
   "outputs": [
    {
     "data": {
      "text/plain": [
       "<span class=\"product-detail-features__item-value\">\n",
       "          7467401\n",
       "        </span>"
      ]
     },
     "execution_count": 38,
     "metadata": {},
     "output_type": "execute_result"
    }
   ],
   "source": [
    "id_number = soup.find(attrs={'class':'product-detail-features__item-value'})\n",
    "id_number"
   ]
  },
  {
   "cell_type": "code",
   "execution_count": 39,
   "id": "5d26b828",
   "metadata": {},
   "outputs": [],
   "source": [
    "id_number  = id_number.string"
   ]
  },
  {
   "cell_type": "code",
   "execution_count": 40,
   "id": "8fc016d4",
   "metadata": {},
   "outputs": [
    {
     "data": {
      "text/plain": [
       "7467401"
      ]
     },
     "execution_count": 40,
     "metadata": {},
     "output_type": "execute_result"
    }
   ],
   "source": [
    "id_number = int(id_number)\n",
    "id_number"
   ]
  },
  {
   "cell_type": "markdown",
   "id": "1c5fdfa0",
   "metadata": {},
   "source": [
    "Год издания"
   ]
  },
  {
   "cell_type": "code",
   "execution_count": 41,
   "id": "76941bc7",
   "metadata": {},
   "outputs": [
    {
     "data": {
      "text/plain": [
       "<span class=\"product-detail-features__item-value\" itemprop=\"datePublished\">\n",
       "          2020\n",
       "        </span>"
      ]
     },
     "execution_count": 41,
     "metadata": {},
     "output_type": "execute_result"
    }
   ],
   "source": [
    "year = soup.find(attrs={'itemprop':'datePublished','class':'product-detail-features__item-value'})\n",
    "year"
   ]
  },
  {
   "cell_type": "code",
   "execution_count": 42,
   "id": "8f9f20e2",
   "metadata": {},
   "outputs": [],
   "source": [
    "year = year.string"
   ]
  },
  {
   "cell_type": "code",
   "execution_count": 43,
   "id": "3ea9d26f",
   "metadata": {},
   "outputs": [
    {
     "data": {
      "text/plain": [
       "2020"
      ]
     },
     "execution_count": 43,
     "metadata": {},
     "output_type": "execute_result"
    }
   ],
   "source": [
    "year = int(year)\n",
    "year"
   ]
  },
  {
   "cell_type": "markdown",
   "id": "b2c6241d",
   "metadata": {},
   "source": [
    "Кол-во страниц"
   ]
  },
  {
   "cell_type": "code",
   "execution_count": 44,
   "id": "28c58eec",
   "metadata": {},
   "outputs": [
    {
     "data": {
      "text/plain": [
       "<span class=\"product-detail-features__item-value\" itemprop=\"numberOfPages\">\n",
       "          352\n",
       "        </span>"
      ]
     },
     "execution_count": 44,
     "metadata": {},
     "output_type": "execute_result"
    }
   ],
   "source": [
    "numberofpages = soup.find(attrs={'itemprop':'numberOfPages','class':'product-detail-features__item-value'})\n",
    "numberofpages"
   ]
  },
  {
   "cell_type": "code",
   "execution_count": 45,
   "id": "11b44b44",
   "metadata": {},
   "outputs": [],
   "source": [
    "numberofpages = numberofpages.string"
   ]
  },
  {
   "cell_type": "code",
   "execution_count": 46,
   "id": "25641905",
   "metadata": {},
   "outputs": [
    {
     "data": {
      "text/plain": [
       "352"
      ]
     },
     "execution_count": 46,
     "metadata": {},
     "output_type": "execute_result"
    }
   ],
   "source": [
    "numberofpages = int(numberofpages)\n",
    "numberofpages"
   ]
  },
  {
   "cell_type": "markdown",
   "id": "6f73717c",
   "metadata": {},
   "source": [
    "Цена"
   ]
  },
  {
   "cell_type": "code",
   "execution_count": 47,
   "id": "49250097",
   "metadata": {},
   "outputs": [
    {
     "data": {
      "text/plain": [
       "<span class=\"product-offer-price__current product-offer-price__current--discount\" content=\"375\" itemprop=\"price\">\n",
       "    375 ₽\n",
       "  </span>"
      ]
     },
     "execution_count": 47,
     "metadata": {},
     "output_type": "execute_result"
    }
   ],
   "source": [
    "price = soup.find(attrs={'itemprop':'price', 'class':'product-offer-price__current product-offer-price__current--discount'})\n",
    "price"
   ]
  },
  {
   "cell_type": "code",
   "execution_count": 48,
   "id": "ce3988e4",
   "metadata": {},
   "outputs": [],
   "source": [
    "price = price.string\n",
    "price = price.strip('\\n ₽')\n",
    "#price = price.replace('\\n','')\n",
    "#price = price.replace('₽','')"
   ]
  },
  {
   "cell_type": "code",
   "execution_count": 49,
   "id": "15221bce",
   "metadata": {},
   "outputs": [
    {
     "data": {
      "text/plain": [
       "375"
      ]
     },
     "execution_count": 49,
     "metadata": {},
     "output_type": "execute_result"
    }
   ],
   "source": [
    "price = int(price)\n",
    "price"
   ]
  },
  {
   "cell_type": "code",
   "execution_count": 50,
   "id": "8b56c37b",
   "metadata": {},
   "outputs": [],
   "source": [
    "#Кол-во отзывов\n",
    "#reviews = soup.find(attrs={'class':'product-info-review-detail__text'})\n",
    "#reviews\n",
    "#<span class=\"product-info-review-detail__text\">30 отзывов</span>"
   ]
  },
  {
   "cell_type": "code",
   "execution_count": 51,
   "id": "e266a8c5",
   "metadata": {},
   "outputs": [],
   "source": [
    "def getRaiting(soup, stats):\n",
    "    \"\"\"\n",
    "        Возвращает рейтинг\n",
    "        \n",
    "        soup: объект bs4.BeautifulSoup\n",
    "            суп текущей страницы\n",
    "\n",
    "        stats: string\n",
    "            raiting\n",
    "\n",
    "    \"\"\"\n",
    "    try:\n",
    "        obj = soup.find(attrs={'class':stats})\n",
    "        #obj = obj.get(\"title\")\n",
    "        #obj = obj.split()[0]\n",
    "        obj = obj.string\n",
    "        obj = float(obj)\n",
    "    except:\n",
    "        obj=None\n",
    "\n",
    "    return obj\n",
    "\n",
    "\n",
    "def getId(soup, stats):\n",
    "    \"\"\"\n",
    "        Возвращает ID\n",
    "\n",
    "        soup: объект bs4.BeautifulSoup\n",
    "            суп текущей страницы\n",
    "\n",
    "        stats: string\n",
    "            id_number \n",
    "\n",
    "    \"\"\"\n",
    "    try:\n",
    "        obj = soup.find(attrs={'class':stats})\n",
    "        #obj = obj.get(\"title\")\n",
    "        #obj = obj.split()[0]\n",
    "        obj = obj.string\n",
    "        obj = int(obj)\n",
    "    except:\n",
    "        obj=None\n",
    "\n",
    "    return obj\n",
    "\n",
    "def getStats(soup, stats, stats1):\n",
    "    \"\"\"\n",
    "        Возвращает очищенное год, кол-во страниц, цену\n",
    "\n",
    "        soup: объект bs4.BeautifulSoup\n",
    "            суп текущей страницы\n",
    "\n",
    "        stats: string\n",
    "            year, numberofpages, price\n",
    "\n",
    "    \"\"\"\n",
    "    try:\n",
    "        obj = soup.find(attrs={'itemprop':stats, 'class':stats1})\n",
    "        #obj = obj.get(\"title\")\n",
    "        #obj = obj.split()[0]\n",
    "        obj = obj.string.strip('\\n ₽')\n",
    "        #obj = obj.replace('\\n','')\n",
    "        #obj = obj.replace('₽','')\n",
    "        obj = int(obj)\n",
    "    except:\n",
    "        obj=None\n",
    "\n",
    "    return obj"
   ]
  },
  {
   "cell_type": "code",
   "execution_count": 52,
   "id": "9f4e2ed7",
   "metadata": {},
   "outputs": [
    {
     "name": "stdout",
     "output_type": "stream",
     "text": [
      "Рейтинг: 2.0\n",
      "ID: 7467401\n",
      "Год: 2020\n",
      "Кол-во страниц: 352\n",
      "Цена: 375\n",
      "\n"
     ]
    }
   ],
   "source": [
    "raiting = getRaiting(soup, stats = 'product-review-range__count')\n",
    "id_number = getId(soup, stats = 'product-detail-features__item-value')\n",
    "year = getStats(soup, stats = 'datePublished', stats1 = 'product-detail-features__item-value')\n",
    "numberofpages = getStats(soup, stats = 'numberOfPages', stats1 = 'product-detail-features__item-value')\n",
    "price = getStats(soup, stats = 'price', stats1 = 'product-offer-price__current product-offer-price__current--discount')\n",
    "\n",
    "print(\"Рейтинг: {}\\nID: {}\\nГод: {}\\nКол-во страниц: {}\\nЦена: {}\\n\".format(raiting, id_number, year, numberofpages, price))"
   ]
  },
  {
   "cell_type": "markdown",
   "id": "fd8f0a32",
   "metadata": {},
   "source": [
    "Название книги"
   ]
  },
  {
   "cell_type": "code",
   "execution_count": 53,
   "id": "691fff03",
   "metadata": {},
   "outputs": [],
   "source": [
    "book_name = soup.find('h1', attrs={'class':'detail-product__header-title'}).text.strip()"
   ]
  },
  {
   "cell_type": "code",
   "execution_count": 54,
   "id": "2f14fc6f",
   "metadata": {},
   "outputs": [
    {
     "data": {
      "text/plain": [
       "'Девушка Online'"
      ]
     },
     "execution_count": 54,
     "metadata": {},
     "output_type": "execute_result"
    }
   ],
   "source": [
    " book_name"
   ]
  },
  {
   "cell_type": "markdown",
   "id": "7705a38c",
   "metadata": {},
   "source": [
    "Автор"
   ]
  },
  {
   "cell_type": "code",
   "execution_count": 55,
   "id": "9be7c1b8",
   "metadata": {},
   "outputs": [],
   "source": [
    "author = soup.find('a', attrs={'itemprop':'url','class':'product-info-authors__author'}).text.strip()"
   ]
  },
  {
   "cell_type": "code",
   "execution_count": 56,
   "id": "b6260bdc",
   "metadata": {},
   "outputs": [
    {
     "data": {
      "text/plain": [
       "'Сагг Зои'"
      ]
     },
     "execution_count": 56,
     "metadata": {},
     "output_type": "execute_result"
    }
   ],
   "source": [
    "author "
   ]
  },
  {
   "cell_type": "markdown",
   "id": "f8152184",
   "metadata": {},
   "source": [
    "Текстовое описание"
   ]
  },
  {
   "cell_type": "code",
   "execution_count": 57,
   "id": "fd89b0c1",
   "metadata": {},
   "outputs": [],
   "source": [
    "about = soup.find('div', attrs={'class':'product-description-short__text'}).text.strip()"
   ]
  },
  {
   "cell_type": "code",
   "execution_count": 58,
   "id": "de2ccc55",
   "metadata": {},
   "outputs": [
    {
     "data": {
      "text/plain": [
       "'Зои Сагг, известная как Zoella, - двадцатичетырехлетний блогер (видеоблогер) из Брайтона, Великобритания. Ее блоги о красоте, моде и стиле жизни привлекли миллионы подписчиков на YouTube, а количество просмотров видео растет с каждым месяцем. Она выиграла награду «Космополитан» за лучший блог о красоте в 2011 году, а в следующем была признана лучшим бьюти-блогером. Зои получила звание самого популярного британского блогера в 2013 году на Radio 1 Teen Awards, а в 2014-м удостоилась звания самого любимого блогера Великобритании на Nickelodeon Kid’s Choice Awards. На награждении Teen Choice Awards 2014 года Зои назвали «Веб-звездой» красоты и моды.  Тэги: zoe sugg, zoella, youtube, girl online, девушка online, девушка онлайн, zozeebo'"
      ]
     },
     "execution_count": 58,
     "metadata": {},
     "output_type": "execute_result"
    }
   ],
   "source": [
    "about"
   ]
  },
  {
   "cell_type": "code",
   "execution_count": 59,
   "id": "3ab856eb",
   "metadata": {},
   "outputs": [],
   "source": [
    "def getText(soup):\n",
    "    \"\"\"\n",
    "        Возвращает текстовые описания книги\n",
    "\n",
    "        soup: объект bs4.BeautifulSoup\n",
    "            суп текущей страницы\n",
    "\n",
    "    \"\"\"\n",
    "    # название книги- идёт с самым большим заголовком h1, легко найти\n",
    "    book_name = soup.find('h1', attrs={'class':'detail-product__header-title'}).text.strip()\n",
    "    \n",
    "    # автор\n",
    "    author = soup.find('a', attrs={'itemprop':'url','class':'product-info-authors__author'}).text.strip()\n",
    "    \n",
    "    # описание\n",
    "    about = soup.find('div', attrs={'class':'product-description-short__text'}).text.strip()\n",
    "\n",
    "    return {'Название книги': book_name, 'Автор':author, 'Описание':about}"
   ]
  },
  {
   "cell_type": "code",
   "execution_count": 60,
   "id": "bc363cd4",
   "metadata": {},
   "outputs": [
    {
     "name": "stdout",
     "output_type": "stream",
     "text": [
      "Название книги:\n",
      "Девушка Online\n",
      "\n",
      "Автор:\n",
      "Сагг Зои\n",
      "\n",
      "Описание:\n",
      "Зои Сагг, известная как Zoella, - двадцатичетырехлетний блогер (видеоблогер) из Брайтона, Великобритания. Ее блоги о красоте, моде и стиле жизни привлекли миллионы подписчиков на YouTube, а количество просмотров видео растет с каждым месяцем. Она выиграла награду «Космополитан» за лучший блог о красоте в 2011 году, а в следующем была признана лучшим бьюти-блогером. Зои получила звание самого популярного британского блогера в 2013 году на Radio 1 Teen Awards, а в 2014-м удостоилась звания самого любимого блогера Великобритании на Nickelodeon Kid’s Choice Awards. На награждении Teen Choice Awards 2014 года Зои назвали «Веб-звездой» красоты и моды.  Тэги: zoe sugg, zoella, youtube, girl online, девушка online, девушка онлайн, zozeebo\n",
      "\n",
      "\n"
     ]
    }
   ],
   "source": [
    "text_fields = getText(soup)\n",
    "\n",
    "print(\"Название книги:\\n{}\\n\\nАвтор:\\n{}\\n\\nОписание:\\n{}\\n\\n\".format(text_fields['Название книги'], text_fields['Автор'], text_fields['Описание']))"
   ]
  },
  {
   "cell_type": "code",
   "execution_count": 61,
   "id": "4642063d",
   "metadata": {},
   "outputs": [],
   "source": [
    "def getBookData(book_page):\n",
    "    \"\"\"\n",
    "        Запрашивает данные по странице, возвращает обработанный словарь с данными\n",
    "\n",
    "        film_page: string\n",
    "            ссылка на страницу с фильмом\n",
    "\n",
    "    \"\"\"\n",
    "\n",
    "    # запрашиваем данные по ссылке\n",
    "    response = requests.get(book_page, headers={'User-Agent': UserAgent().chrome})\n",
    "\n",
    "    if not response.ok:\n",
    "        # если сервер нам отказал, вернем статус ошибки\n",
    "        return response.status_code\n",
    "\n",
    "    # получаем содержимое страницы и переводим в суп\n",
    "    html = response.content\n",
    "    soup = BeautifulSoup(html,'html.parser')\n",
    "\n",
    "    # используя ранее написанные функции парсим информацию\n",
    "    raiting = getRaiting(soup=soup, stats = 'product-review-range__count')\n",
    "    id_number = getId(soup=soup, stats = 'product-detail-features__item-value')\n",
    "    year = getStats(soup=soup, stats = 'datePublished', stats1 = 'product-detail-features__item-value')\n",
    "    numberofpages = getStats(soup=soup, stats = 'numberOfPages', stats1 = 'product-detail-features__item-value')\n",
    "    price = getStats(soup=soup, stats = 'price', stats1 = 'product-offer-price__current product-offer-price__current--discount')\n",
    "\n",
    "    # текстовые поля\n",
    "    text_fileds = getText(soup=soup)\n",
    "\n",
    "    # составляем словарь, в котором будут хранится все полученные и обработанные данные\n",
    "    data_row = {\"Рейтинг\":raiting, \"ID\":id_number, \"Год\": year, \"Кол-во страниц\":numberofpages, \"Цена\": price}\n",
    "    data_row.update(text_fileds)\n",
    "\n",
    "    return data_row"
   ]
  },
  {
   "cell_type": "code",
   "execution_count": 62,
   "id": "044f3fc7",
   "metadata": {},
   "outputs": [],
   "source": [
    "data_row = getBookData('https://www.chitai-gorod.ru/product/devushka-online-7467401')"
   ]
  },
  {
   "cell_type": "code",
   "execution_count": 63,
   "id": "71999bcc",
   "metadata": {},
   "outputs": [
    {
     "data": {
      "text/plain": [
       "{'Рейтинг': 2.0,\n",
       " 'ID': 7467401,\n",
       " 'Год': 2020,\n",
       " 'Кол-во страниц': 352,\n",
       " 'Цена': 375,\n",
       " 'Название книги': 'Девушка Online',\n",
       " 'Автор': 'Сагг Зои',\n",
       " 'Описание': 'Зои Сагг, известная как Zoella, - двадцатичетырехлетний блогер (видеоблогер) из Брайтона, Великобритания. Ее блоги о красоте, моде и стиле жизни привлекли миллионы подписчиков на YouTube, а количество просмотров видео растет с каждым месяцем. Она выиграла награду «Космополитан» за лучший блог о красоте в 2011 году, а в следующем была признана лучшим бьюти-блогером. Зои получила звание самого популярного британского блогера в 2013 году на Radio 1 Teen Awards, а в 2014-м удостоилась звания самого любимого блогера Великобритании на Nickelodeon Kid’s Choice Awards. На награждении Teen Choice Awards 2014 года Зои назвали «Веб-звездой» красоты и моды.  Тэги: zoe sugg, zoella, youtube, girl online, девушка online, девушка онлайн, zozeebo'}"
      ]
     },
     "execution_count": 63,
     "metadata": {},
     "output_type": "execute_result"
    }
   ],
   "source": [
    "data_row"
   ]
  },
  {
   "cell_type": "code",
   "execution_count": 64,
   "id": "28c00921",
   "metadata": {},
   "outputs": [],
   "source": [
    "final_df = pd.DataFrame(columns=['Название книги', 'Автор', 'Рейтинг','ID', 'Год', 'Кол-во страниц', 'Цена', 'Описание'])"
   ]
  },
  {
   "cell_type": "code",
   "execution_count": 65,
   "id": "33f920be",
   "metadata": {},
   "outputs": [
    {
     "data": {
      "text/html": [
       "<div>\n",
       "<style scoped>\n",
       "    .dataframe tbody tr th:only-of-type {\n",
       "        vertical-align: middle;\n",
       "    }\n",
       "\n",
       "    .dataframe tbody tr th {\n",
       "        vertical-align: top;\n",
       "    }\n",
       "\n",
       "    .dataframe thead th {\n",
       "        text-align: right;\n",
       "    }\n",
       "</style>\n",
       "<table border=\"1\" class=\"dataframe\">\n",
       "  <thead>\n",
       "    <tr style=\"text-align: right;\">\n",
       "      <th></th>\n",
       "      <th>Название книги</th>\n",
       "      <th>Автор</th>\n",
       "      <th>Рейтинг</th>\n",
       "      <th>ID</th>\n",
       "      <th>Год</th>\n",
       "      <th>Кол-во страниц</th>\n",
       "      <th>Цена</th>\n",
       "      <th>Описание</th>\n",
       "    </tr>\n",
       "  </thead>\n",
       "  <tbody>\n",
       "    <tr>\n",
       "      <th>0</th>\n",
       "      <td>Девушка Online</td>\n",
       "      <td>Сагг Зои</td>\n",
       "      <td>2.0</td>\n",
       "      <td>7467401</td>\n",
       "      <td>2020</td>\n",
       "      <td>352</td>\n",
       "      <td>375</td>\n",
       "      <td>Зои Сагг, известная как Zoella, - двадцатичеты...</td>\n",
       "    </tr>\n",
       "  </tbody>\n",
       "</table>\n",
       "</div>"
      ],
      "text/plain": [
       "   Название книги     Автор  Рейтинг       ID   Год Кол-во страниц Цена  \\\n",
       "0  Девушка Online  Сагг Зои      2.0  7467401  2020            352  375   \n",
       "\n",
       "                                            Описание  \n",
       "0  Зои Сагг, известная как Zoella, - двадцатичеты...  "
      ]
     },
     "execution_count": 65,
     "metadata": {},
     "output_type": "execute_result"
    }
   ],
   "source": [
    "final_df = pd.concat([final_df, pd.DataFrame([data_row])], ignore_index=True)\n",
    "final_df"
   ]
  },
  {
   "cell_type": "code",
   "execution_count": 66,
   "id": "a9004c80",
   "metadata": {},
   "outputs": [],
   "source": [
    "from tqdm import tqdm_notebook"
   ]
  },
  {
   "cell_type": "code",
   "execution_count": 67,
   "id": "cb01e47c",
   "metadata": {},
   "outputs": [
    {
     "data": {
      "text/plain": [
       "['https://www.chitai-gorod.ru/product/tayna-proklyatogo-gercoga-kniga-1-ledi-ariella-uotorbi-7673102',\n",
       " 'https://www.chitai-gorod.ru/product/chudesnyy-nozh-7765850',\n",
       " 'https://www.chitai-gorod.ru/product/bumazhnye-goroda-naydi-menya-7468832',\n",
       " 'https://www.chitai-gorod.ru/product/posle-padeniya-7578887',\n",
       " 'https://www.chitai-gorod.ru/product/mezhvreme-7824691',\n",
       " 'https://www.chitai-gorod.ru/product/voron-hozyaina-ne-vybiraet-7898564',\n",
       " 'https://www.chitai-gorod.ru/product/kogda-zamuzh-inka-7964230',\n",
       " 'https://www.chitai-gorod.ru/product/nezvanaya-gostya-7962945',\n",
       " 'https://www.chitai-gorod.ru/product/snezhnaya-skazka-specialnoe-izdanie-7868569',\n",
       " 'https://www.chitai-gorod.ru/product/nashi-deti-azbuka-semi-7831196',\n",
       " 'https://www.chitai-gorod.ru/product/u-romeo-byl-pistolet-7703493',\n",
       " 'https://www.chitai-gorod.ru/product/alaya-tigrica-7893403',\n",
       " 'https://www.chitai-gorod.ru/product/naslednica-tmy-7967799',\n",
       " 'https://www.chitai-gorod.ru/product/snezhnaya-skazka-utrennyaya-oblozhka-7820299',\n",
       " 'https://www.chitai-gorod.ru/product/svetlyy-chelovek-7785939',\n",
       " 'https://www.chitai-gorod.ru/product/poselok-na-reke-oredezh-7946297',\n",
       " 'https://www.chitai-gorod.ru/product/zavisim-ot-tebya-7964152',\n",
       " 'https://www.chitai-gorod.ru/product/demian-gertruda-7513361',\n",
       " 'https://www.chitai-gorod.ru/product/gipnorody-kniga-praktikum-po-tehnikam-glubokogo-rasslableniya-v-rodah-7788106',\n",
       " 'https://www.chitai-gorod.ru/product/odin-iz-nas-sleduyushchiy-7808418',\n",
       " 'https://www.chitai-gorod.ru/product/odinochestvo-v-seti-vozvrashchenie-k-nachalu-7810704',\n",
       " 'https://www.chitai-gorod.ru/product/nebo-vyshe-oblakov-7814780',\n",
       " 'https://www.chitai-gorod.ru/product/gvendi-i-ee-volshebnoe-peryshko-7773193',\n",
       " 'https://www.chitai-gorod.ru/product/a-nautro-radost-7749143',\n",
       " 'https://www.chitai-gorod.ru/product/kari-mora-7751114',\n",
       " 'https://www.chitai-gorod.ru/product/chetyrnadcat-dney-do-8004909',\n",
       " 'https://www.chitai-gorod.ru/product/sleduyushchiy-god-v-gavane-7822825',\n",
       " 'https://www.chitai-gorod.ru/product/vechnost-7745916',\n",
       " 'https://www.chitai-gorod.ru/product/akademiya-vampirov-kniga-3-poceluy-tmy-7225274',\n",
       " 'https://www.chitai-gorod.ru/product/samyy-bogatyy-chelovek-v-vavilone-sekrety-pervogo-millionera-7787537',\n",
       " 'https://www.chitai-gorod.ru/product/poteryannaya-7930907',\n",
       " 'https://www.chitai-gorod.ru/product/gosti-na-saut-betteri-7898431',\n",
       " 'https://www.chitai-gorod.ru/product/vse-zvezdy-i-klyki-7802524',\n",
       " 'https://www.chitai-gorod.ru/product/arkanum-kniga-2-altar-gorgony-7845653',\n",
       " 'https://www.chitai-gorod.ru/product/muzyka-vetra-7676560',\n",
       " 'https://www.chitai-gorod.ru/product/lyudi-severa-istoriya-vikingov-793-1241-7565031',\n",
       " 'https://www.chitai-gorod.ru/product/dvor-yadovityh-shipov-7902016',\n",
       " 'https://www.chitai-gorod.ru/product/na-mars-7742831',\n",
       " 'https://www.chitai-gorod.ru/product/telo-dryan-doneseniya-s-fronta-i-iz-tyla-7717637',\n",
       " 'https://www.chitai-gorod.ru/product/tayna-kamennogo-princa-7979245',\n",
       " 'https://www.chitai-gorod.ru/product/dzheyn-eyr-7471789',\n",
       " 'https://www.chitai-gorod.ru/product/unesennye-vetrom-tom-2-7799032',\n",
       " 'https://www.chitai-gorod.ru/product/medsestra-zaklinatelnica-7853974',\n",
       " 'https://www.chitai-gorod.ru/product/eto-zhe-rebenok-shkola-adekvatnyh-roditeley-7681168',\n",
       " 'https://www.chitai-gorod.ru/product/bumaga-i-ogon-7946209',\n",
       " 'https://www.chitai-gorod.ru/product/anatomiya-lyubvi-roman-7948452',\n",
       " 'https://www.chitai-gorod.ru/product/karnaval-lzhi-7892820',\n",
       " 'https://www.chitai-gorod.ru/product/posle-7740856']"
      ]
     },
     "execution_count": 67,
     "metadata": {},
     "output_type": "execute_result"
    }
   ],
   "source": [
    "book_links"
   ]
  },
  {
   "cell_type": "code",
   "execution_count": 68,
   "id": "9e808bc0",
   "metadata": {},
   "outputs": [
    {
     "data": {
      "application/vnd.jupyter.widget-view+json": {
       "model_id": "8bd2c1849fc24acfa26fba0d999a7862",
       "version_major": 2,
       "version_minor": 0
      },
      "text/plain": [
       "  0%|          | 0/48 [00:00<?, ?it/s]"
      ]
     },
     "metadata": {},
     "output_type": "display_data"
    },
    {
     "name": "stdout",
     "output_type": "stream",
     "text": [
      "OK for https://www.chitai-gorod.ru/product/tayna-proklyatogo-gercoga-kniga-1-ledi-ariella-uotorbi-7673102\n",
      "OK for https://www.chitai-gorod.ru/product/chudesnyy-nozh-7765850\n",
      "OK for https://www.chitai-gorod.ru/product/bumazhnye-goroda-naydi-menya-7468832\n",
      "OK for https://www.chitai-gorod.ru/product/posle-padeniya-7578887\n",
      "OK for https://www.chitai-gorod.ru/product/mezhvreme-7824691\n",
      "OK for https://www.chitai-gorod.ru/product/voron-hozyaina-ne-vybiraet-7898564\n",
      "OK for https://www.chitai-gorod.ru/product/kogda-zamuzh-inka-7964230\n",
      "OK for https://www.chitai-gorod.ru/product/nezvanaya-gostya-7962945\n",
      "OK for https://www.chitai-gorod.ru/product/snezhnaya-skazka-specialnoe-izdanie-7868569\n",
      "OK for https://www.chitai-gorod.ru/product/nashi-deti-azbuka-semi-7831196\n",
      "OK for https://www.chitai-gorod.ru/product/u-romeo-byl-pistolet-7703493\n",
      "OK for https://www.chitai-gorod.ru/product/alaya-tigrica-7893403\n",
      "OK for https://www.chitai-gorod.ru/product/naslednica-tmy-7967799\n",
      "Exception occurred with https://www.chitai-gorod.ru/product/snezhnaya-skazka-utrennyaya-oblozhka-7820299: cannot concatenate object of type '<class 'int'>'; only Series and DataFrame objs are valid\n",
      "OK for https://www.chitai-gorod.ru/product/svetlyy-chelovek-7785939\n",
      "OK for https://www.chitai-gorod.ru/product/poselok-na-reke-oredezh-7946297\n",
      "OK for https://www.chitai-gorod.ru/product/zavisim-ot-tebya-7964152\n",
      "OK for https://www.chitai-gorod.ru/product/demian-gertruda-7513361\n",
      "OK for https://www.chitai-gorod.ru/product/gipnorody-kniga-praktikum-po-tehnikam-glubokogo-rasslableniya-v-rodah-7788106\n",
      "OK for https://www.chitai-gorod.ru/product/odin-iz-nas-sleduyushchiy-7808418\n",
      "OK for https://www.chitai-gorod.ru/product/odinochestvo-v-seti-vozvrashchenie-k-nachalu-7810704\n",
      "OK for https://www.chitai-gorod.ru/product/nebo-vyshe-oblakov-7814780\n",
      "OK for https://www.chitai-gorod.ru/product/gvendi-i-ee-volshebnoe-peryshko-7773193\n",
      "OK for https://www.chitai-gorod.ru/product/a-nautro-radost-7749143\n",
      "OK for https://www.chitai-gorod.ru/product/kari-mora-7751114\n",
      "OK for https://www.chitai-gorod.ru/product/chetyrnadcat-dney-do-8004909\n",
      "OK for https://www.chitai-gorod.ru/product/sleduyushchiy-god-v-gavane-7822825\n",
      "OK for https://www.chitai-gorod.ru/product/vechnost-7745916\n",
      "OK for https://www.chitai-gorod.ru/product/akademiya-vampirov-kniga-3-poceluy-tmy-7225274\n",
      "OK for https://www.chitai-gorod.ru/product/samyy-bogatyy-chelovek-v-vavilone-sekrety-pervogo-millionera-7787537\n",
      "OK for https://www.chitai-gorod.ru/product/poteryannaya-7930907\n",
      "OK for https://www.chitai-gorod.ru/product/gosti-na-saut-betteri-7898431\n",
      "OK for https://www.chitai-gorod.ru/product/vse-zvezdy-i-klyki-7802524\n",
      "OK for https://www.chitai-gorod.ru/product/arkanum-kniga-2-altar-gorgony-7845653\n",
      "OK for https://www.chitai-gorod.ru/product/muzyka-vetra-7676560\n",
      "OK for https://www.chitai-gorod.ru/product/lyudi-severa-istoriya-vikingov-793-1241-7565031\n",
      "OK for https://www.chitai-gorod.ru/product/dvor-yadovityh-shipov-7902016\n",
      "OK for https://www.chitai-gorod.ru/product/na-mars-7742831\n",
      "OK for https://www.chitai-gorod.ru/product/telo-dryan-doneseniya-s-fronta-i-iz-tyla-7717637\n",
      "OK for https://www.chitai-gorod.ru/product/tayna-kamennogo-princa-7979245\n",
      "OK for https://www.chitai-gorod.ru/product/dzheyn-eyr-7471789\n",
      "OK for https://www.chitai-gorod.ru/product/unesennye-vetrom-tom-2-7799032\n",
      "OK for https://www.chitai-gorod.ru/product/medsestra-zaklinatelnica-7853974\n",
      "OK for https://www.chitai-gorod.ru/product/eto-zhe-rebenok-shkola-adekvatnyh-roditeley-7681168\n",
      "OK for https://www.chitai-gorod.ru/product/bumaga-i-ogon-7946209\n",
      "OK for https://www.chitai-gorod.ru/product/anatomiya-lyubvi-roman-7948452\n",
      "OK for https://www.chitai-gorod.ru/product/karnaval-lzhi-7892820\n",
      "OK for https://www.chitai-gorod.ru/product/posle-7740856\n"
     ]
    }
   ],
   "source": [
    "for book_link in tqdm_notebook(book_links):\n",
    "    try:\n",
    "        # Get book data\n",
    "        data_row = getBookData(book_link)\n",
    "\n",
    "        # Convert data_row (a dict) to a DataFrame\n",
    "        if isinstance(data_row, dict):\n",
    "            data_row = pd.DataFrame([data_row])\n",
    "\n",
    "        # Concatenate the new data row to final_df\n",
    "        final_df = pd.concat([final_df, data_row], ignore_index=True)\n",
    "        #final_df = pd.concat([final_df, data_row], ignore_index=True).dropna(axis=1)\n",
    "\n",
    "        # Sleep to prevent overwhelming the server\n",
    "        time.sleep(0.3)\n",
    "        print(f\"OK for {book_link}\")\n",
    "    except Exception as e:\n",
    "        print(f\"Exception occurred with {book_link}: {e}\")\n",
    "        continue"
   ]
  },
  {
   "cell_type": "code",
   "execution_count": 69,
   "id": "69fd6a2e",
   "metadata": {},
   "outputs": [
    {
     "data": {
      "text/plain": [
       "(48, 8)"
      ]
     },
     "execution_count": 69,
     "metadata": {},
     "output_type": "execute_result"
    }
   ],
   "source": [
    "final_df.shape"
   ]
  },
  {
   "cell_type": "code",
   "execution_count": 70,
   "id": "96a60a8a",
   "metadata": {},
   "outputs": [
    {
     "data": {
      "text/html": [
       "<div>\n",
       "<style scoped>\n",
       "    .dataframe tbody tr th:only-of-type {\n",
       "        vertical-align: middle;\n",
       "    }\n",
       "\n",
       "    .dataframe tbody tr th {\n",
       "        vertical-align: top;\n",
       "    }\n",
       "\n",
       "    .dataframe thead th {\n",
       "        text-align: right;\n",
       "    }\n",
       "</style>\n",
       "<table border=\"1\" class=\"dataframe\">\n",
       "  <thead>\n",
       "    <tr style=\"text-align: right;\">\n",
       "      <th></th>\n",
       "      <th>Название книги</th>\n",
       "      <th>Автор</th>\n",
       "      <th>Рейтинг</th>\n",
       "      <th>ID</th>\n",
       "      <th>Год</th>\n",
       "      <th>Кол-во страниц</th>\n",
       "      <th>Цена</th>\n",
       "      <th>Описание</th>\n",
       "    </tr>\n",
       "  </thead>\n",
       "  <tbody>\n",
       "    <tr>\n",
       "      <th>0</th>\n",
       "      <td>Девушка Online</td>\n",
       "      <td>Сагг Зои</td>\n",
       "      <td>2.0</td>\n",
       "      <td>7467401</td>\n",
       "      <td>2020</td>\n",
       "      <td>352</td>\n",
       "      <td>375</td>\n",
       "      <td>Зои Сагг, известная как Zoella, - двадцатичеты...</td>\n",
       "    </tr>\n",
       "    <tr>\n",
       "      <th>1</th>\n",
       "      <td>Тайна проклятого герцога. Книга 1. Леди Ариэлл...</td>\n",
       "      <td>Звёздная Елена</td>\n",
       "      <td>NaN</td>\n",
       "      <td>7673102</td>\n",
       "      <td>2019</td>\n",
       "      <td>352</td>\n",
       "      <td>375</td>\n",
       "      <td>Могущественный черный маг, повелитель  духов в...</td>\n",
       "    </tr>\n",
       "    <tr>\n",
       "      <th>2</th>\n",
       "      <td>Чудесный нож</td>\n",
       "      <td>Пулман Филип</td>\n",
       "      <td>3.5</td>\n",
       "      <td>7765850</td>\n",
       "      <td>2022</td>\n",
       "      <td>384</td>\n",
       "      <td>485</td>\n",
       "      <td>Продолжение книги «Северное сияние».</td>\n",
       "    </tr>\n",
       "    <tr>\n",
       "      <th>3</th>\n",
       "      <td>Бумажные города. Найди меня.</td>\n",
       "      <td>Грин Джон</td>\n",
       "      <td>NaN</td>\n",
       "      <td>7468832</td>\n",
       "      <td>2019</td>\n",
       "      <td>320</td>\n",
       "      <td>388</td>\n",
       "      <td>Выпускник школы Кью Джейкобсен с детских лет т...</td>\n",
       "    </tr>\n",
       "    <tr>\n",
       "      <th>4</th>\n",
       "      <td>После падения</td>\n",
       "      <td>Тодд Анна</td>\n",
       "      <td>4.0</td>\n",
       "      <td>7578887</td>\n",
       "      <td>2023</td>\n",
       "      <td>736</td>\n",
       "      <td>235</td>\n",
       "      <td>«После падения» — третья часть цикла книг «Пос...</td>\n",
       "    </tr>\n",
       "    <tr>\n",
       "      <th>5</th>\n",
       "      <td>Межвремье</td>\n",
       "      <td>Мирай Медина</td>\n",
       "      <td>2.3</td>\n",
       "      <td>7824691</td>\n",
       "      <td>2023</td>\n",
       "      <td>512</td>\n",
       "      <td>425</td>\n",
       "      <td>Прошли тысячи лет с тех пор, как пропал Настоя...</td>\n",
       "    </tr>\n",
       "    <tr>\n",
       "      <th>6</th>\n",
       "      <td>Ворон хозяина не выбирает</td>\n",
       "      <td>Абэ Тисато</td>\n",
       "      <td>3.0</td>\n",
       "      <td>7898564</td>\n",
       "      <td>2022</td>\n",
       "      <td>352</td>\n",
       "      <td>470</td>\n",
       "      <td>Продолжение романа «ВОРОНУ НЕ К ЛИЦУ КИМОНО» —...</td>\n",
       "    </tr>\n",
       "    <tr>\n",
       "      <th>7</th>\n",
       "      <td>Когда замуж, Инка?</td>\n",
       "      <td>Блэкберн Лиззи Дамилула</td>\n",
       "      <td>NaN</td>\n",
       "      <td>7964230</td>\n",
       "      <td>2023</td>\n",
       "      <td>416</td>\n",
       "      <td>375</td>\n",
       "      <td>Дебютный роман Лиззи Дамилулы Блэкберн.   Эта ...</td>\n",
       "    </tr>\n",
       "    <tr>\n",
       "      <th>8</th>\n",
       "      <td>Незваная гостья</td>\n",
       "      <td>Кинселла Софи</td>\n",
       "      <td>4.0</td>\n",
       "      <td>7962945</td>\n",
       "      <td>2023</td>\n",
       "      <td>352</td>\n",
       "      <td>350</td>\n",
       "      <td>Родители Эффи развелись, разрушив ее воспомина...</td>\n",
       "    </tr>\n",
       "    <tr>\n",
       "      <th>9</th>\n",
       "      <td>Снежная сказка. Специальное издание</td>\n",
       "      <td>Полярный Александр</td>\n",
       "      <td>1.3</td>\n",
       "      <td>7868569</td>\n",
       "      <td>2021</td>\n",
       "      <td>160</td>\n",
       "      <td>740</td>\n",
       "      <td>ВСТРЕЧАЙТЕ НОВОЕ, ПОДАРОЧНОЕ ИЗДАНИЕ «СНЕЖНОЙ ...</td>\n",
       "    </tr>\n",
       "    <tr>\n",
       "      <th>10</th>\n",
       "      <td>Наши дети. Азбука семьи</td>\n",
       "      <td>Машкова Диана</td>\n",
       "      <td>NaN</td>\n",
       "      <td>7831196</td>\n",
       "      <td>2020</td>\n",
       "      <td>448</td>\n",
       "      <td>300</td>\n",
       "      <td>Откровенная книга о том, что значит быть родит...</td>\n",
       "    </tr>\n",
       "    <tr>\n",
       "      <th>11</th>\n",
       "      <td>У Ромео был пистолет</td>\n",
       "      <td>Лилит Диана</td>\n",
       "      <td>4.0</td>\n",
       "      <td>7703493</td>\n",
       "      <td>2019</td>\n",
       "      <td>320</td>\n",
       "      <td>360</td>\n",
       "      <td>Все любят Леона Колфилда. Ему двадцать два год...</td>\n",
       "    </tr>\n",
       "    <tr>\n",
       "      <th>12</th>\n",
       "      <td>Алая тигрица</td>\n",
       "      <td>Вэнь Чжао Амели</td>\n",
       "      <td>NaN</td>\n",
       "      <td>7893403</td>\n",
       "      <td>2021</td>\n",
       "      <td>480</td>\n",
       "      <td>460</td>\n",
       "      <td>Кирилия охвачена волнениями — повсюду разруха,...</td>\n",
       "    </tr>\n",
       "    <tr>\n",
       "      <th>13</th>\n",
       "      <td>Наследница тьмы</td>\n",
       "      <td>Керибар Берил</td>\n",
       "      <td>NaN</td>\n",
       "      <td>7967799</td>\n",
       "      <td>2023</td>\n",
       "      <td>448</td>\n",
       "      <td>440</td>\n",
       "      <td>Романтическое таинственное фэнтези об эльфах и...</td>\n",
       "    </tr>\n",
       "    <tr>\n",
       "      <th>14</th>\n",
       "      <td>Светлый человек</td>\n",
       "      <td>Максимов Максим</td>\n",
       "      <td>5.0</td>\n",
       "      <td>7785939</td>\n",
       "      <td>2020</td>\n",
       "      <td>288</td>\n",
       "      <td>375</td>\n",
       "      <td>Постапокалипсис, социальная драма, Young-Adult...</td>\n",
       "    </tr>\n",
       "    <tr>\n",
       "      <th>15</th>\n",
       "      <td>Поселок на реке Оредеж</td>\n",
       "      <td>Григорян Анаит</td>\n",
       "      <td>NaN</td>\n",
       "      <td>7946297</td>\n",
       "      <td>2022</td>\n",
       "      <td>288</td>\n",
       "      <td>400</td>\n",
       "      <td>…У подростков Кати и Лены Комаровых из многоде...</td>\n",
       "    </tr>\n",
       "    <tr>\n",
       "      <th>16</th>\n",
       "      <td>Зависим от тебя</td>\n",
       "      <td>Ритчи Криста,</td>\n",
       "      <td>NaN</td>\n",
       "      <td>7964152</td>\n",
       "      <td>2023</td>\n",
       "      <td>416</td>\n",
       "      <td>470</td>\n",
       "      <td>Звезда зарубежного TikTok, более 160 млн просм...</td>\n",
       "    </tr>\n",
       "    <tr>\n",
       "      <th>17</th>\n",
       "      <td>Демиан. Гертруда</td>\n",
       "      <td>Гессе Герман</td>\n",
       "      <td>5.0</td>\n",
       "      <td>7513361</td>\n",
       "      <td>2021</td>\n",
       "      <td>416</td>\n",
       "      <td>325</td>\n",
       "      <td>«Демиан» – философский роман, мрачный и мистич...</td>\n",
       "    </tr>\n",
       "    <tr>\n",
       "      <th>18</th>\n",
       "      <td>Гипнороды. Книга-практикум по техникам глубоко...</td>\n",
       "      <td>Иванова Анастасия</td>\n",
       "      <td>4.0</td>\n",
       "      <td>7788106</td>\n",
       "      <td>2024</td>\n",
       "      <td>368</td>\n",
       "      <td>520</td>\n",
       "      <td>Книга профессионального психолога, которая одн...</td>\n",
       "    </tr>\n",
       "    <tr>\n",
       "      <th>19</th>\n",
       "      <td>Один из нас - следующий</td>\n",
       "      <td>Макманус Карен</td>\n",
       "      <td>5.0</td>\n",
       "      <td>7808418</td>\n",
       "      <td>2020</td>\n",
       "      <td>352</td>\n",
       "      <td>375</td>\n",
       "      <td>Добро пожаловать в «Бэйвью-Хай».Прошел год, и ...</td>\n",
       "    </tr>\n",
       "    <tr>\n",
       "      <th>20</th>\n",
       "      <td>Одиночество в Сети. Возвращение к началу</td>\n",
       "      <td>Вишневский Януш</td>\n",
       "      <td>NaN</td>\n",
       "      <td>7810704</td>\n",
       "      <td>2020</td>\n",
       "      <td>544</td>\n",
       "      <td>485</td>\n",
       "      <td>Герои «Одиночества в сети» расстались после до...</td>\n",
       "    </tr>\n",
       "    <tr>\n",
       "      <th>21</th>\n",
       "      <td>Небо выше облаков</td>\n",
       "      <td>Логвин Янина</td>\n",
       "      <td>5.0</td>\n",
       "      <td>7814780</td>\n",
       "      <td>2022</td>\n",
       "      <td>288</td>\n",
       "      <td>360</td>\n",
       "      <td>В жизни врача-хирурга Андрея Шибуева есть мест...</td>\n",
       "    </tr>\n",
       "    <tr>\n",
       "      <th>22</th>\n",
       "      <td>Гвенди и ее волшебное перышко</td>\n",
       "      <td>Кинг Стивен</td>\n",
       "      <td>4.0</td>\n",
       "      <td>7773193</td>\n",
       "      <td>2019</td>\n",
       "      <td>320</td>\n",
       "      <td>360</td>\n",
       "      <td>С тех пор как Гвенди Питерсон в последний раз ...</td>\n",
       "    </tr>\n",
       "    <tr>\n",
       "      <th>23</th>\n",
       "      <td>А наутро радость</td>\n",
       "      <td>Смит Бетти</td>\n",
       "      <td>2.6</td>\n",
       "      <td>7749143</td>\n",
       "      <td>2019</td>\n",
       "      <td>320</td>\n",
       "      <td>355</td>\n",
       "      <td>Бруклин 1927 года. Анни и Карл так юны и влюбл...</td>\n",
       "    </tr>\n",
       "    <tr>\n",
       "      <th>24</th>\n",
       "      <td>Кари Мора</td>\n",
       "      <td>Харрис Томас</td>\n",
       "      <td>5.0</td>\n",
       "      <td>7751114</td>\n",
       "      <td>2019</td>\n",
       "      <td>320</td>\n",
       "      <td>425</td>\n",
       "      <td>Роман, который Томас Харрис писал последние 13...</td>\n",
       "    </tr>\n",
       "    <tr>\n",
       "      <th>25</th>\n",
       "      <td>Четырнадцать дней до...</td>\n",
       "      <td>Паулан Саша</td>\n",
       "      <td>NaN</td>\n",
       "      <td>8004909</td>\n",
       "      <td>2023</td>\n",
       "      <td>288</td>\n",
       "      <td>300</td>\n",
       "      <td>До Нового года осталось 14 дней, и Соня решила...</td>\n",
       "    </tr>\n",
       "    <tr>\n",
       "      <th>26</th>\n",
       "      <td>Следующий год в Гаване</td>\n",
       "      <td>Клитон Шанель</td>\n",
       "      <td>3.5</td>\n",
       "      <td>7822825</td>\n",
       "      <td>2020</td>\n",
       "      <td>432</td>\n",
       "      <td>425</td>\n",
       "      <td>Прекрасный роман о современной Кубе и той рево...</td>\n",
       "    </tr>\n",
       "    <tr>\n",
       "      <th>27</th>\n",
       "      <td>Вечность</td>\n",
       "      <td>Стивотер Мэгги</td>\n",
       "      <td>5.0</td>\n",
       "      <td>7745916</td>\n",
       "      <td>2019</td>\n",
       "      <td>544</td>\n",
       "      <td>385</td>\n",
       "      <td>Бестселлер New York Times!  С этого цикла рома...</td>\n",
       "    </tr>\n",
       "    <tr>\n",
       "      <th>28</th>\n",
       "      <td>Академия вампиров. Книга 3. Поцелуй тьмы</td>\n",
       "      <td>Мид Райчел</td>\n",
       "      <td>4.3</td>\n",
       "      <td>7225274</td>\n",
       "      <td>2020</td>\n",
       "      <td>544</td>\n",
       "      <td>350</td>\n",
       "      <td>Странные и страшные вещи творятся с некоторых ...</td>\n",
       "    </tr>\n",
       "    <tr>\n",
       "      <th>29</th>\n",
       "      <td>Самый богатый человек в Вавилоне. Секреты перв...</td>\n",
       "      <td>Клейсон Джорж Сэмюэль</td>\n",
       "      <td>NaN</td>\n",
       "      <td>7787537</td>\n",
       "      <td>2021</td>\n",
       "      <td>160</td>\n",
       "      <td>436</td>\n",
       "      <td>Эта книга — настоящее лекарство от нищеты. Есл...</td>\n",
       "    </tr>\n",
       "  </tbody>\n",
       "</table>\n",
       "</div>"
      ],
      "text/plain": [
       "                                       Название книги  \\\n",
       "0                                      Девушка Online   \n",
       "1   Тайна проклятого герцога. Книга 1. Леди Ариэлл...   \n",
       "2                                        Чудесный нож   \n",
       "3                        Бумажные города. Найди меня.   \n",
       "4                                       После падения   \n",
       "5                                           Межвремье   \n",
       "6                           Ворон хозяина не выбирает   \n",
       "7                                  Когда замуж, Инка?   \n",
       "8                                     Незваная гостья   \n",
       "9                 Снежная сказка. Специальное издание   \n",
       "10                            Наши дети. Азбука семьи   \n",
       "11                               У Ромео был пистолет   \n",
       "12                                       Алая тигрица   \n",
       "13                                    Наследница тьмы   \n",
       "14                                    Светлый человек   \n",
       "15                             Поселок на реке Оредеж   \n",
       "16                                    Зависим от тебя   \n",
       "17                                   Демиан. Гертруда   \n",
       "18  Гипнороды. Книга-практикум по техникам глубоко...   \n",
       "19                            Один из нас - следующий   \n",
       "20           Одиночество в Сети. Возвращение к началу   \n",
       "21                                  Небо выше облаков   \n",
       "22                      Гвенди и ее волшебное перышко   \n",
       "23                                   А наутро радость   \n",
       "24                                          Кари Мора   \n",
       "25                            Четырнадцать дней до...   \n",
       "26                             Следующий год в Гаване   \n",
       "27                                           Вечность   \n",
       "28           Академия вампиров. Книга 3. Поцелуй тьмы   \n",
       "29  Самый богатый человек в Вавилоне. Секреты перв...   \n",
       "\n",
       "                      Автор  Рейтинг       ID   Год Кол-во страниц Цена  \\\n",
       "0                  Сагг Зои      2.0  7467401  2020            352  375   \n",
       "1            Звёздная Елена      NaN  7673102  2019            352  375   \n",
       "2              Пулман Филип      3.5  7765850  2022            384  485   \n",
       "3                 Грин Джон      NaN  7468832  2019            320  388   \n",
       "4                 Тодд Анна      4.0  7578887  2023            736  235   \n",
       "5              Мирай Медина      2.3  7824691  2023            512  425   \n",
       "6                Абэ Тисато      3.0  7898564  2022            352  470   \n",
       "7   Блэкберн Лиззи Дамилула      NaN  7964230  2023            416  375   \n",
       "8             Кинселла Софи      4.0  7962945  2023            352  350   \n",
       "9        Полярный Александр      1.3  7868569  2021            160  740   \n",
       "10            Машкова Диана      NaN  7831196  2020            448  300   \n",
       "11              Лилит Диана      4.0  7703493  2019            320  360   \n",
       "12          Вэнь Чжао Амели      NaN  7893403  2021            480  460   \n",
       "13            Керибар Берил      NaN  7967799  2023            448  440   \n",
       "14          Максимов Максим      5.0  7785939  2020            288  375   \n",
       "15           Григорян Анаит      NaN  7946297  2022            288  400   \n",
       "16            Ритчи Криста,      NaN  7964152  2023            416  470   \n",
       "17             Гессе Герман      5.0  7513361  2021            416  325   \n",
       "18        Иванова Анастасия      4.0  7788106  2024            368  520   \n",
       "19           Макманус Карен      5.0  7808418  2020            352  375   \n",
       "20          Вишневский Януш      NaN  7810704  2020            544  485   \n",
       "21             Логвин Янина      5.0  7814780  2022            288  360   \n",
       "22              Кинг Стивен      4.0  7773193  2019            320  360   \n",
       "23               Смит Бетти      2.6  7749143  2019            320  355   \n",
       "24             Харрис Томас      5.0  7751114  2019            320  425   \n",
       "25              Паулан Саша      NaN  8004909  2023            288  300   \n",
       "26            Клитон Шанель      3.5  7822825  2020            432  425   \n",
       "27           Стивотер Мэгги      5.0  7745916  2019            544  385   \n",
       "28               Мид Райчел      4.3  7225274  2020            544  350   \n",
       "29    Клейсон Джорж Сэмюэль      NaN  7787537  2021            160  436   \n",
       "\n",
       "                                             Описание  \n",
       "0   Зои Сагг, известная как Zoella, - двадцатичеты...  \n",
       "1   Могущественный черный маг, повелитель  духов в...  \n",
       "2                Продолжение книги «Северное сияние».  \n",
       "3   Выпускник школы Кью Джейкобсен с детских лет т...  \n",
       "4   «После падения» — третья часть цикла книг «Пос...  \n",
       "5   Прошли тысячи лет с тех пор, как пропал Настоя...  \n",
       "6   Продолжение романа «ВОРОНУ НЕ К ЛИЦУ КИМОНО» —...  \n",
       "7   Дебютный роман Лиззи Дамилулы Блэкберн.   Эта ...  \n",
       "8   Родители Эффи развелись, разрушив ее воспомина...  \n",
       "9   ВСТРЕЧАЙТЕ НОВОЕ, ПОДАРОЧНОЕ ИЗДАНИЕ «СНЕЖНОЙ ...  \n",
       "10  Откровенная книга о том, что значит быть родит...  \n",
       "11  Все любят Леона Колфилда. Ему двадцать два год...  \n",
       "12  Кирилия охвачена волнениями — повсюду разруха,...  \n",
       "13  Романтическое таинственное фэнтези об эльфах и...  \n",
       "14  Постапокалипсис, социальная драма, Young-Adult...  \n",
       "15  …У подростков Кати и Лены Комаровых из многоде...  \n",
       "16  Звезда зарубежного TikTok, более 160 млн просм...  \n",
       "17  «Демиан» – философский роман, мрачный и мистич...  \n",
       "18  Книга профессионального психолога, которая одн...  \n",
       "19  Добро пожаловать в «Бэйвью-Хай».Прошел год, и ...  \n",
       "20  Герои «Одиночества в сети» расстались после до...  \n",
       "21  В жизни врача-хирурга Андрея Шибуева есть мест...  \n",
       "22  С тех пор как Гвенди Питерсон в последний раз ...  \n",
       "23  Бруклин 1927 года. Анни и Карл так юны и влюбл...  \n",
       "24  Роман, который Томас Харрис писал последние 13...  \n",
       "25  До Нового года осталось 14 дней, и Соня решила...  \n",
       "26  Прекрасный роман о современной Кубе и той рево...  \n",
       "27  Бестселлер New York Times!  С этого цикла рома...  \n",
       "28  Странные и страшные вещи творятся с некоторых ...  \n",
       "29  Эта книга — настоящее лекарство от нищеты. Есл...  "
      ]
     },
     "execution_count": 70,
     "metadata": {},
     "output_type": "execute_result"
    }
   ],
   "source": [
    "final_df.head(30)"
   ]
  },
  {
   "cell_type": "code",
   "execution_count": 71,
   "id": "13cef506",
   "metadata": {},
   "outputs": [
    {
     "data": {
      "application/vnd.jupyter.widget-view+json": {
       "model_id": "e9cc4deeffd9421ca82a7064f27f2424",
       "version_major": 2,
       "version_minor": 0
      },
      "text/plain": [
       "Pages:   0%|          | 0/10 [00:00<?, ?it/s]"
      ]
     },
     "metadata": {},
     "output_type": "display_data"
    },
    {
     "data": {
      "application/vnd.jupyter.widget-view+json": {
       "model_id": "",
       "version_major": 2,
       "version_minor": 0
      },
      "text/plain": [
       "Books:   0%|          | 0/48 [00:00<?, ?it/s]"
      ]
     },
     "metadata": {},
     "output_type": "display_data"
    },
    {
     "data": {
      "application/vnd.jupyter.widget-view+json": {
       "model_id": "",
       "version_major": 2,
       "version_minor": 0
      },
      "text/plain": [
       "Books:   0%|          | 0/48 [00:00<?, ?it/s]"
      ]
     },
     "metadata": {},
     "output_type": "display_data"
    },
    {
     "data": {
      "application/vnd.jupyter.widget-view+json": {
       "model_id": "",
       "version_major": 2,
       "version_minor": 0
      },
      "text/plain": [
       "Books:   0%|          | 0/48 [00:00<?, ?it/s]"
      ]
     },
     "metadata": {},
     "output_type": "display_data"
    },
    {
     "name": "stdout",
     "output_type": "stream",
     "text": [
      "AHTUNG! parsing once again: https://www.chitai-gorod.ru/product/bts-raskraska-7765772\n",
      "AHTUNG! parsing once again: https://www.chitai-gorod.ru/product/bts-raskraska-7765772\n",
      "AHTUNG! parsing once again: https://www.chitai-gorod.ru/product/bts-raskraska-7765772\n"
     ]
    },
    {
     "data": {
      "application/vnd.jupyter.widget-view+json": {
       "model_id": "",
       "version_major": 2,
       "version_minor": 0
      },
      "text/plain": [
       "Books:   0%|          | 0/48 [00:00<?, ?it/s]"
      ]
     },
     "metadata": {},
     "output_type": "display_data"
    },
    {
     "name": "stdout",
     "output_type": "stream",
     "text": [
      "AHTUNG! parsing once again: https://www.chitai-gorod.ru/product/idealnaya-illyuziya-roman-7934559\n",
      "AHTUNG! parsing once again: https://www.chitai-gorod.ru/product/idealnaya-illyuziya-roman-7934559\n",
      "AHTUNG! parsing once again: https://www.chitai-gorod.ru/product/idealnaya-illyuziya-roman-7934559\n"
     ]
    },
    {
     "data": {
      "application/vnd.jupyter.widget-view+json": {
       "model_id": "",
       "version_major": 2,
       "version_minor": 0
      },
      "text/plain": [
       "Books:   0%|          | 0/48 [00:00<?, ?it/s]"
      ]
     },
     "metadata": {},
     "output_type": "display_data"
    },
    {
     "data": {
      "application/vnd.jupyter.widget-view+json": {
       "model_id": "",
       "version_major": 2,
       "version_minor": 0
      },
      "text/plain": [
       "Books:   0%|          | 0/48 [00:00<?, ?it/s]"
      ]
     },
     "metadata": {},
     "output_type": "display_data"
    },
    {
     "name": "stdout",
     "output_type": "stream",
     "text": [
      "AHTUNG! parsing once again: https://www.chitai-gorod.ru/product/linii-i-figury-propisi-7782165\n",
      "AHTUNG! parsing once again: https://www.chitai-gorod.ru/product/linii-i-figury-propisi-7782165\n",
      "AHTUNG! parsing once again: https://www.chitai-gorod.ru/product/linii-i-figury-propisi-7782165\n"
     ]
    },
    {
     "data": {
      "application/vnd.jupyter.widget-view+json": {
       "model_id": "",
       "version_major": 2,
       "version_minor": 0
      },
      "text/plain": [
       "Books:   0%|          | 0/48 [00:00<?, ?it/s]"
      ]
     },
     "metadata": {},
     "output_type": "display_data"
    },
    {
     "name": "stdout",
     "output_type": "stream",
     "text": [
      "AHTUNG! parsing once again: https://www.chitai-gorod.ru/product/koroleva-attolii-7990801\n",
      "AHTUNG! parsing once again: https://www.chitai-gorod.ru/product/koroleva-attolii-7990801\n",
      "AHTUNG! parsing once again: https://www.chitai-gorod.ru/product/koroleva-attolii-7990801\n",
      "AHTUNG! parsing once again: https://www.chitai-gorod.ru/product/holodnoe-serdce-ii-moy-mir-dnevnik-dlya-vdohnoveniya-7779328\n",
      "AHTUNG! parsing once again: https://www.chitai-gorod.ru/product/holodnoe-serdce-ii-moy-mir-dnevnik-dlya-vdohnoveniya-7779328\n",
      "AHTUNG! parsing once again: https://www.chitai-gorod.ru/product/holodnoe-serdce-ii-moy-mir-dnevnik-dlya-vdohnoveniya-7779328\n"
     ]
    },
    {
     "data": {
      "application/vnd.jupyter.widget-view+json": {
       "model_id": "",
       "version_major": 2,
       "version_minor": 0
      },
      "text/plain": [
       "Books:   0%|          | 0/48 [00:00<?, ?it/s]"
      ]
     },
     "metadata": {},
     "output_type": "display_data"
    },
    {
     "data": {
      "application/vnd.jupyter.widget-view+json": {
       "model_id": "",
       "version_major": 2,
       "version_minor": 0
      },
      "text/plain": [
       "Books:   0%|          | 0/48 [00:00<?, ?it/s]"
      ]
     },
     "metadata": {},
     "output_type": "display_data"
    },
    {
     "data": {
      "application/vnd.jupyter.widget-view+json": {
       "model_id": "",
       "version_major": 2,
       "version_minor": 0
      },
      "text/plain": [
       "Books:   0%|          | 0/48 [00:00<?, ?it/s]"
      ]
     },
     "metadata": {},
     "output_type": "display_data"
    },
    {
     "name": "stdout",
     "output_type": "stream",
     "text": [
      "AHTUNG! parsing once again: https://www.chitai-gorod.ru/product/veselye-elfy-7764500\n",
      "AHTUNG! parsing once again: https://www.chitai-gorod.ru/product/veselye-elfy-7764500\n",
      "AHTUNG! parsing once again: https://www.chitai-gorod.ru/product/veselye-elfy-7764500\n",
      "AHTUNG! parsing once again: https://www.chitai-gorod.ru/product/volshany-probuzhdenie-zemli-7765947\n",
      "AHTUNG! parsing once again: https://www.chitai-gorod.ru/product/volshany-probuzhdenie-zemli-7765947\n",
      "AHTUNG! parsing once again: https://www.chitai-gorod.ru/product/volshany-probuzhdenie-zemli-7765947\n"
     ]
    }
   ],
   "source": [
    "# Немного красивых циклов. При желании пакет можно отключить и\n",
    "# удалить команду tqdm_notebook из всех циклов\n",
    "from tqdm import tqdm_notebook\n",
    "\n",
    "\n",
    "final_df = pd.DataFrame(columns=['Название книги', 'Автор', 'Рейтинг','ID', 'Год', 'Кол-во страниц', 'Цена', 'Описание'])\n",
    "\n",
    "for page_number in tqdm_notebook(range(10), desc='Pages'):\n",
    "    \n",
    "    # собрали хрефы с текущей страницы\n",
    "    book_links = getPageLinks(page_number+1)\n",
    "    for book_link in tqdm_notebook(book_links, desc='Books', leave=False):\n",
    "        # иногда с первого раза страничка не парсится\n",
    "        for i in range(3):\n",
    "            try:\n",
    "                # закидываем её в таблицу\n",
    "                #final_df = final_df.append(data_row, ignore_index=True)\n",
    "                data_row = getBookData(book_link)\n",
    "                final_df = pd.concat([final_df, pd.DataFrame([data_row])], ignore_index=True)\n",
    "                # если всё получилось - выходим из внутреннего цикла\n",
    "                break\n",
    "            except:\n",
    "                # Иначе, пробуем еще несколько раз, пока не закончатся попытки\n",
    "                print('AHTUNG! parsing once again:', book_link)\n",
    "                continue\n",
    "            time.sleep(0.3)"
   ]
  },
  {
   "cell_type": "code",
   "execution_count": 72,
   "id": "2549078c",
   "metadata": {},
   "outputs": [
    {
     "data": {
      "text/html": [
       "<div>\n",
       "<style scoped>\n",
       "    .dataframe tbody tr th:only-of-type {\n",
       "        vertical-align: middle;\n",
       "    }\n",
       "\n",
       "    .dataframe tbody tr th {\n",
       "        vertical-align: top;\n",
       "    }\n",
       "\n",
       "    .dataframe thead th {\n",
       "        text-align: right;\n",
       "    }\n",
       "</style>\n",
       "<table border=\"1\" class=\"dataframe\">\n",
       "  <thead>\n",
       "    <tr style=\"text-align: right;\">\n",
       "      <th></th>\n",
       "      <th>Название книги</th>\n",
       "      <th>Автор</th>\n",
       "      <th>Рейтинг</th>\n",
       "      <th>ID</th>\n",
       "      <th>Год</th>\n",
       "      <th>Кол-во страниц</th>\n",
       "      <th>Цена</th>\n",
       "      <th>Описание</th>\n",
       "      <th>0</th>\n",
       "    </tr>\n",
       "  </thead>\n",
       "  <tbody>\n",
       "    <tr>\n",
       "      <th>0</th>\n",
       "      <td>Девушка Online</td>\n",
       "      <td>Сагг Зои</td>\n",
       "      <td>2.0</td>\n",
       "      <td>7467401</td>\n",
       "      <td>2020</td>\n",
       "      <td>352</td>\n",
       "      <td>375</td>\n",
       "      <td>Зои Сагг, известная как Zoella, - двадцатичеты...</td>\n",
       "      <td>NaN</td>\n",
       "    </tr>\n",
       "    <tr>\n",
       "      <th>1</th>\n",
       "      <td>Мятная сказка. Специальное издание</td>\n",
       "      <td>Полярный Александр</td>\n",
       "      <td>2.0</td>\n",
       "      <td>7740488</td>\n",
       "      <td>2019</td>\n",
       "      <td>160</td>\n",
       "      <td>690</td>\n",
       "      <td>«Мятная сказка» - культовая книга, принесшая с...</td>\n",
       "      <td>NaN</td>\n",
       "    </tr>\n",
       "    <tr>\n",
       "      <th>2</th>\n",
       "      <td>Реннвинд. Сердце тьмы</td>\n",
       "      <td>Стенберг Леа</td>\n",
       "      <td>4.3</td>\n",
       "      <td>7965332</td>\n",
       "      <td>2023</td>\n",
       "      <td>384</td>\n",
       "      <td>440</td>\n",
       "      <td>Когда кажется, что все секреты раскрыты, стано...</td>\n",
       "      <td>NaN</td>\n",
       "    </tr>\n",
       "    <tr>\n",
       "      <th>3</th>\n",
       "      <td>Трансформатор 3. В чем сила, бро?</td>\n",
       "      <td>Портнягин Дмитрий</td>\n",
       "      <td>1.5</td>\n",
       "      <td>7769954</td>\n",
       "      <td>2019</td>\n",
       "      <td>304</td>\n",
       "      <td>125</td>\n",
       "      <td>Дмитрий Портнягин - известный российский предп...</td>\n",
       "      <td>NaN</td>\n",
       "    </tr>\n",
       "    <tr>\n",
       "      <th>4</th>\n",
       "      <td>Все это время</td>\n",
       "      <td>Дотри Микки</td>\n",
       "      <td>NaN</td>\n",
       "      <td>7820141</td>\n",
       "      <td>2020</td>\n",
       "      <td>384</td>\n",
       "      <td>360</td>\n",
       "      <td>Рейчел Липпинкотт, Микки Дотри — авторы, котор...</td>\n",
       "      <td>NaN</td>\n",
       "    </tr>\n",
       "  </tbody>\n",
       "</table>\n",
       "</div>"
      ],
      "text/plain": [
       "                       Название книги               Автор  Рейтинг       ID  \\\n",
       "0                      Девушка Online            Сагг Зои      2.0  7467401   \n",
       "1  Мятная сказка. Специальное издание  Полярный Александр      2.0  7740488   \n",
       "2               Реннвинд. Сердце тьмы        Стенберг Леа      4.3  7965332   \n",
       "3   Трансформатор 3. В чем сила, бро?   Портнягин Дмитрий      1.5  7769954   \n",
       "4                       Все это время         Дотри Микки      NaN  7820141   \n",
       "\n",
       "    Год Кол-во страниц Цена  \\\n",
       "0  2020            352  375   \n",
       "1  2019            160  690   \n",
       "2  2023            384  440   \n",
       "3  2019            304  125   \n",
       "4  2020            384  360   \n",
       "\n",
       "                                            Описание   0  \n",
       "0  Зои Сагг, известная как Zoella, - двадцатичеты... NaN  \n",
       "1  «Мятная сказка» - культовая книга, принесшая с... NaN  \n",
       "2  Когда кажется, что все секреты раскрыты, стано... NaN  \n",
       "3  Дмитрий Портнягин - известный российский предп... NaN  \n",
       "4  Рейчел Липпинкотт, Микки Дотри — авторы, котор... NaN  "
      ]
     },
     "execution_count": 72,
     "metadata": {},
     "output_type": "execute_result"
    }
   ],
   "source": [
    "final_df.head()"
   ]
  },
  {
   "cell_type": "code",
   "execution_count": 73,
   "id": "11d916be",
   "metadata": {},
   "outputs": [],
   "source": [
    "df = final_df.to_csv('book.csv')"
   ]
  },
  {
   "cell_type": "markdown",
   "id": "3309754d",
   "metadata": {},
   "source": [
    "### Часть 2. NLP"
   ]
  },
  {
   "cell_type": "code",
   "execution_count": 73,
   "id": "e849bc6e",
   "metadata": {},
   "outputs": [
    {
     "name": "stdout",
     "output_type": "stream",
     "text": [
      "Requirement already satisfied: pymystem3 in c:\\users\\zhanna botasheva\\anaconda3\\lib\\site-packages (0.2.0)Note: you may need to restart the kernel to use updated packages.\n",
      "\n",
      "Requirement already satisfied: requests in c:\\users\\zhanna botasheva\\anaconda3\\lib\\site-packages (from pymystem3) (2.31.0)\n",
      "Requirement already satisfied: charset-normalizer<4,>=2 in c:\\users\\zhanna botasheva\\anaconda3\\lib\\site-packages (from requests->pymystem3) (2.0.4)\n",
      "Requirement already satisfied: idna<4,>=2.5 in c:\\users\\zhanna botasheva\\anaconda3\\lib\\site-packages (from requests->pymystem3) (3.4)\n",
      "Requirement already satisfied: urllib3<3,>=1.21.1 in c:\\users\\zhanna botasheva\\anaconda3\\lib\\site-packages (from requests->pymystem3) (1.26.16)\n",
      "Requirement already satisfied: certifi>=2017.4.17 in c:\\users\\zhanna botasheva\\anaconda3\\lib\\site-packages (from requests->pymystem3) (2024.8.30)\n"
     ]
    }
   ],
   "source": [
    "pip install pymystem3"
   ]
  },
  {
   "cell_type": "code",
   "execution_count": 52,
   "id": "ca174551",
   "metadata": {},
   "outputs": [],
   "source": [
    "%matplotlib inline\n",
    "#!pip install pymorphy2\n",
    "import matplotlib.pyplot as plt\n",
    "import json\n",
    "from tqdm import tqdm\n",
    "from sklearn.metrics import *\n",
    "import warnings\n",
    "warnings.filterwarnings(\"ignore\")"
   ]
  },
  {
   "cell_type": "code",
   "execution_count": 53,
   "id": "3da7df81",
   "metadata": {},
   "outputs": [],
   "source": [
    "import nltk   # Natural Language Toolkit\n",
    "from nltk.corpus import stopwords\n",
    "from string import punctuation\n",
    "from pymystem3 import Mystem"
   ]
  },
  {
   "cell_type": "code",
   "execution_count": 54,
   "id": "171661d1",
   "metadata": {},
   "outputs": [],
   "source": [
    "df = pd.read_csv('book.csv')"
   ]
  },
  {
   "cell_type": "code",
   "execution_count": 55,
   "id": "429e2bb5",
   "metadata": {},
   "outputs": [
    {
     "data": {
      "text/html": [
       "<div>\n",
       "<style scoped>\n",
       "    .dataframe tbody tr th:only-of-type {\n",
       "        vertical-align: middle;\n",
       "    }\n",
       "\n",
       "    .dataframe tbody tr th {\n",
       "        vertical-align: top;\n",
       "    }\n",
       "\n",
       "    .dataframe thead th {\n",
       "        text-align: right;\n",
       "    }\n",
       "</style>\n",
       "<table border=\"1\" class=\"dataframe\">\n",
       "  <thead>\n",
       "    <tr style=\"text-align: right;\">\n",
       "      <th></th>\n",
       "      <th>Unnamed: 0</th>\n",
       "      <th>Название книги</th>\n",
       "      <th>Автор</th>\n",
       "      <th>Рейтинг</th>\n",
       "      <th>ID</th>\n",
       "      <th>Год</th>\n",
       "      <th>Кол-во страниц</th>\n",
       "      <th>Цена</th>\n",
       "      <th>Описание</th>\n",
       "      <th>0</th>\n",
       "    </tr>\n",
       "  </thead>\n",
       "  <tbody>\n",
       "    <tr>\n",
       "      <th>0</th>\n",
       "      <td>0</td>\n",
       "      <td>Девушка Online</td>\n",
       "      <td>Сагг Зои</td>\n",
       "      <td>2.0</td>\n",
       "      <td>7467401.0</td>\n",
       "      <td>2020.0</td>\n",
       "      <td>352.0</td>\n",
       "      <td>375.0</td>\n",
       "      <td>Зои Сагг, известная как Zoella, - двадцатичеты...</td>\n",
       "      <td>NaN</td>\n",
       "    </tr>\n",
       "    <tr>\n",
       "      <th>1</th>\n",
       "      <td>1</td>\n",
       "      <td>Мятная сказка. Специальное издание</td>\n",
       "      <td>Полярный Александр</td>\n",
       "      <td>2.0</td>\n",
       "      <td>7740488.0</td>\n",
       "      <td>2019.0</td>\n",
       "      <td>160.0</td>\n",
       "      <td>690.0</td>\n",
       "      <td>«Мятная сказка» - культовая книга, принесшая с...</td>\n",
       "      <td>NaN</td>\n",
       "    </tr>\n",
       "    <tr>\n",
       "      <th>2</th>\n",
       "      <td>2</td>\n",
       "      <td>Реннвинд. Сердце тьмы</td>\n",
       "      <td>Стенберг Леа</td>\n",
       "      <td>4.3</td>\n",
       "      <td>7965332.0</td>\n",
       "      <td>2023.0</td>\n",
       "      <td>384.0</td>\n",
       "      <td>440.0</td>\n",
       "      <td>Когда кажется, что все секреты раскрыты, стано...</td>\n",
       "      <td>NaN</td>\n",
       "    </tr>\n",
       "    <tr>\n",
       "      <th>3</th>\n",
       "      <td>3</td>\n",
       "      <td>Трансформатор 3. В чем сила, бро?</td>\n",
       "      <td>Портнягин Дмитрий</td>\n",
       "      <td>1.5</td>\n",
       "      <td>7769954.0</td>\n",
       "      <td>2019.0</td>\n",
       "      <td>304.0</td>\n",
       "      <td>125.0</td>\n",
       "      <td>Дмитрий Портнягин - известный российский предп...</td>\n",
       "      <td>NaN</td>\n",
       "    </tr>\n",
       "    <tr>\n",
       "      <th>4</th>\n",
       "      <td>4</td>\n",
       "      <td>Все это время</td>\n",
       "      <td>Дотри Микки</td>\n",
       "      <td>NaN</td>\n",
       "      <td>7820141.0</td>\n",
       "      <td>2020.0</td>\n",
       "      <td>384.0</td>\n",
       "      <td>360.0</td>\n",
       "      <td>Рейчел Липпинкотт, Микки Дотри — авторы, котор...</td>\n",
       "      <td>NaN</td>\n",
       "    </tr>\n",
       "  </tbody>\n",
       "</table>\n",
       "</div>"
      ],
      "text/plain": [
       "   Unnamed: 0                      Название книги               Автор  \\\n",
       "0           0                      Девушка Online            Сагг Зои   \n",
       "1           1  Мятная сказка. Специальное издание  Полярный Александр   \n",
       "2           2               Реннвинд. Сердце тьмы        Стенберг Леа   \n",
       "3           3   Трансформатор 3. В чем сила, бро?   Портнягин Дмитрий   \n",
       "4           4                       Все это время         Дотри Микки   \n",
       "\n",
       "   Рейтинг         ID     Год  Кол-во страниц   Цена  \\\n",
       "0      2.0  7467401.0  2020.0           352.0  375.0   \n",
       "1      2.0  7740488.0  2019.0           160.0  690.0   \n",
       "2      4.3  7965332.0  2023.0           384.0  440.0   \n",
       "3      1.5  7769954.0  2019.0           304.0  125.0   \n",
       "4      NaN  7820141.0  2020.0           384.0  360.0   \n",
       "\n",
       "                                            Описание   0  \n",
       "0  Зои Сагг, известная как Zoella, - двадцатичеты... NaN  \n",
       "1  «Мятная сказка» - культовая книга, принесшая с... NaN  \n",
       "2  Когда кажется, что все секреты раскрыты, стано... NaN  \n",
       "3  Дмитрий Портнягин - известный российский предп... NaN  \n",
       "4  Рейчел Липпинкотт, Микки Дотри — авторы, котор... NaN  "
      ]
     },
     "execution_count": 55,
     "metadata": {},
     "output_type": "execute_result"
    }
   ],
   "source": [
    "df.head()"
   ]
  },
  {
   "cell_type": "code",
   "execution_count": 56,
   "id": "b6bb6571",
   "metadata": {},
   "outputs": [
    {
     "name": "stdout",
     "output_type": "stream",
     "text": [
      "<class 'pandas.core.frame.DataFrame'>\n",
      "RangeIndex: 473 entries, 0 to 472\n",
      "Data columns (total 10 columns):\n",
      " #   Column          Non-Null Count  Dtype  \n",
      "---  ------          --------------  -----  \n",
      " 0   Unnamed: 0      473 non-null    int64  \n",
      " 1   Название книги  471 non-null    object \n",
      " 2   Автор           471 non-null    object \n",
      " 3   Рейтинг         233 non-null    float64\n",
      " 4   ID              471 non-null    float64\n",
      " 5   Год             471 non-null    float64\n",
      " 6   Кол-во страниц  469 non-null    float64\n",
      " 7   Цена            466 non-null    float64\n",
      " 8   Описание        471 non-null    object \n",
      " 9   0               2 non-null      float64\n",
      "dtypes: float64(6), int64(1), object(3)\n",
      "memory usage: 37.1+ KB\n"
     ]
    }
   ],
   "source": [
    "df.info()"
   ]
  },
  {
   "cell_type": "code",
   "execution_count": 57,
   "id": "d9cd17ec",
   "metadata": {},
   "outputs": [],
   "source": [
    "df['Рейтинг'] = df['Рейтинг'].fillna(0) "
   ]
  },
  {
   "cell_type": "code",
   "execution_count": 58,
   "id": "e744bbae",
   "metadata": {},
   "outputs": [],
   "source": [
    "df = df.drop(columns=['Unnamed: 0', '0'])"
   ]
  },
  {
   "cell_type": "code",
   "execution_count": 59,
   "id": "03aee83b",
   "metadata": {},
   "outputs": [
    {
     "data": {
      "text/html": [
       "<div>\n",
       "<style scoped>\n",
       "    .dataframe tbody tr th:only-of-type {\n",
       "        vertical-align: middle;\n",
       "    }\n",
       "\n",
       "    .dataframe tbody tr th {\n",
       "        vertical-align: top;\n",
       "    }\n",
       "\n",
       "    .dataframe thead th {\n",
       "        text-align: right;\n",
       "    }\n",
       "</style>\n",
       "<table border=\"1\" class=\"dataframe\">\n",
       "  <thead>\n",
       "    <tr style=\"text-align: right;\">\n",
       "      <th></th>\n",
       "      <th>Название книги</th>\n",
       "      <th>Автор</th>\n",
       "      <th>Рейтинг</th>\n",
       "      <th>ID</th>\n",
       "      <th>Год</th>\n",
       "      <th>Кол-во страниц</th>\n",
       "      <th>Цена</th>\n",
       "      <th>Описание</th>\n",
       "    </tr>\n",
       "  </thead>\n",
       "  <tbody>\n",
       "    <tr>\n",
       "      <th>0</th>\n",
       "      <td>Девушка Online</td>\n",
       "      <td>Сагг Зои</td>\n",
       "      <td>2.0</td>\n",
       "      <td>7467401.0</td>\n",
       "      <td>2020.0</td>\n",
       "      <td>352.0</td>\n",
       "      <td>375.0</td>\n",
       "      <td>Зои Сагг, известная как Zoella, - двадцатичеты...</td>\n",
       "    </tr>\n",
       "    <tr>\n",
       "      <th>1</th>\n",
       "      <td>Мятная сказка. Специальное издание</td>\n",
       "      <td>Полярный Александр</td>\n",
       "      <td>2.0</td>\n",
       "      <td>7740488.0</td>\n",
       "      <td>2019.0</td>\n",
       "      <td>160.0</td>\n",
       "      <td>690.0</td>\n",
       "      <td>«Мятная сказка» - культовая книга, принесшая с...</td>\n",
       "    </tr>\n",
       "    <tr>\n",
       "      <th>2</th>\n",
       "      <td>Реннвинд. Сердце тьмы</td>\n",
       "      <td>Стенберг Леа</td>\n",
       "      <td>4.3</td>\n",
       "      <td>7965332.0</td>\n",
       "      <td>2023.0</td>\n",
       "      <td>384.0</td>\n",
       "      <td>440.0</td>\n",
       "      <td>Когда кажется, что все секреты раскрыты, стано...</td>\n",
       "    </tr>\n",
       "    <tr>\n",
       "      <th>3</th>\n",
       "      <td>Трансформатор 3. В чем сила, бро?</td>\n",
       "      <td>Портнягин Дмитрий</td>\n",
       "      <td>1.5</td>\n",
       "      <td>7769954.0</td>\n",
       "      <td>2019.0</td>\n",
       "      <td>304.0</td>\n",
       "      <td>125.0</td>\n",
       "      <td>Дмитрий Портнягин - известный российский предп...</td>\n",
       "    </tr>\n",
       "    <tr>\n",
       "      <th>4</th>\n",
       "      <td>Все это время</td>\n",
       "      <td>Дотри Микки</td>\n",
       "      <td>0.0</td>\n",
       "      <td>7820141.0</td>\n",
       "      <td>2020.0</td>\n",
       "      <td>384.0</td>\n",
       "      <td>360.0</td>\n",
       "      <td>Рейчел Липпинкотт, Микки Дотри — авторы, котор...</td>\n",
       "    </tr>\n",
       "  </tbody>\n",
       "</table>\n",
       "</div>"
      ],
      "text/plain": [
       "                       Название книги               Автор  Рейтинг         ID  \\\n",
       "0                      Девушка Online            Сагг Зои      2.0  7467401.0   \n",
       "1  Мятная сказка. Специальное издание  Полярный Александр      2.0  7740488.0   \n",
       "2               Реннвинд. Сердце тьмы        Стенберг Леа      4.3  7965332.0   \n",
       "3   Трансформатор 3. В чем сила, бро?   Портнягин Дмитрий      1.5  7769954.0   \n",
       "4                       Все это время         Дотри Микки      0.0  7820141.0   \n",
       "\n",
       "      Год  Кол-во страниц   Цена  \\\n",
       "0  2020.0           352.0  375.0   \n",
       "1  2019.0           160.0  690.0   \n",
       "2  2023.0           384.0  440.0   \n",
       "3  2019.0           304.0  125.0   \n",
       "4  2020.0           384.0  360.0   \n",
       "\n",
       "                                            Описание  \n",
       "0  Зои Сагг, известная как Zoella, - двадцатичеты...  \n",
       "1  «Мятная сказка» - культовая книга, принесшая с...  \n",
       "2  Когда кажется, что все секреты раскрыты, стано...  \n",
       "3  Дмитрий Портнягин - известный российский предп...  \n",
       "4  Рейчел Липпинкотт, Микки Дотри — авторы, котор...  "
      ]
     },
     "execution_count": 59,
     "metadata": {},
     "output_type": "execute_result"
    }
   ],
   "source": [
    "df.head()"
   ]
  },
  {
   "cell_type": "code",
   "execution_count": 60,
   "id": "b073fd56",
   "metadata": {},
   "outputs": [
    {
     "name": "stdout",
     "output_type": "stream",
     "text": [
      "<class 'pandas.core.frame.DataFrame'>\n",
      "RangeIndex: 473 entries, 0 to 472\n",
      "Data columns (total 8 columns):\n",
      " #   Column          Non-Null Count  Dtype  \n",
      "---  ------          --------------  -----  \n",
      " 0   Название книги  471 non-null    object \n",
      " 1   Автор           471 non-null    object \n",
      " 2   Рейтинг         473 non-null    float64\n",
      " 3   ID              471 non-null    float64\n",
      " 4   Год             471 non-null    float64\n",
      " 5   Кол-во страниц  469 non-null    float64\n",
      " 6   Цена            466 non-null    float64\n",
      " 7   Описание        471 non-null    object \n",
      "dtypes: float64(5), object(3)\n",
      "memory usage: 29.7+ KB\n"
     ]
    }
   ],
   "source": [
    "df.info()"
   ]
  },
  {
   "cell_type": "code",
   "execution_count": 61,
   "id": "c79d1333",
   "metadata": {},
   "outputs": [
    {
     "name": "stdout",
     "output_type": "stream",
     "text": [
      "151\n",
      "['и', 'в', 'во', 'не', 'что', 'он', 'на', 'я', 'с', 'со']\n"
     ]
    },
    {
     "name": "stderr",
     "output_type": "stream",
     "text": [
      "[nltk_data] Downloading package stopwords to C:\\Users\\Zhanna\n",
      "[nltk_data]     Botasheva\\AppData\\Roaming\\nltk_data...\n",
      "[nltk_data]   Package stopwords is already up-to-date!\n"
     ]
    }
   ],
   "source": [
    "# загружаем список стоп-слов для русского\n",
    "nltk.download('stopwords')\n",
    "stop_words = nltk.corpus.stopwords.words('russian')\n",
    "\n",
    "# примеры стоп-слов\n",
    "print(len(stop_words))\n",
    "print(stop_words[:10])"
   ]
  },
  {
   "cell_type": "code",
   "execution_count": 62,
   "id": "6a218310",
   "metadata": {},
   "outputs": [],
   "source": [
    "add_stop_words = ['это', 'то', 'который', 'автор', 'однако', 'писатель', 'times', 'читатель']\n",
    "all_stop_words = stop_words + add_stop_words"
   ]
  },
  {
   "cell_type": "code",
   "execution_count": 63,
   "id": "ca71c255",
   "metadata": {},
   "outputs": [],
   "source": [
    "#создадим функцию, которая будет осуществлять предобработку текста\n",
    "mystem = Mystem() \n",
    "\n",
    "def lemmatize_and_filter(text):\n",
    "    tokens = mystem.lemmatize(text)\n",
    "    tokens = [token for token in tokens if token not in all_stop_words \\\n",
    "              and token != \" \" \\\n",
    "              and token.strip() not in punctuation]\n",
    "    \n",
    "    text = \" \".join(tokens)\n",
    "    \n",
    "    return text"
   ]
  },
  {
   "cell_type": "code",
   "execution_count": 64,
   "id": "43184bf0",
   "metadata": {},
   "outputs": [
    {
     "data": {
      "text/plain": [
       "'Зои Сагг, известная как Zoella, - двадцатичетырехлетний блогер (видеоблогер) из Брайтона, Великобритания. Ее блоги о красоте, моде и стиле жизни привлекли миллионы подписчиков на YouTube, а количество просмотров видео растет с каждым месяцем. Она выиграла награду «Космополитан» за лучший блог о красоте в 2011 году, а в следующем была признана лучшим бьюти-блогером. Зои получила звание самого популярного британского блогера в 2013 году на Radio 1 Teen Awards, а в 2014-м удостоилась звания самого любимого блогера Великобритании на Nickelodeon Kid’s Choice Awards. На награждении Teen Choice Awards 2014 года Зои назвали «Веб-звездой» красоты и моды.  Тэги: zoe sugg, zoella, youtube, girl online, девушка online, девушка онлайн, zozeebo'"
      ]
     },
     "execution_count": 64,
     "metadata": {},
     "output_type": "execute_result"
    }
   ],
   "source": [
    "#Проверим работу функции на одной строке\n",
    "df['Описание'].values[0]"
   ]
  },
  {
   "cell_type": "code",
   "execution_count": 65,
   "id": "214dc6b2",
   "metadata": {},
   "outputs": [
    {
     "data": {
      "text/plain": [
       "'зоя сагга известный Zoella , -  двадцатичетырехлетний блогер видеоблогер брайтон великобритания блог красота мода стиль жизнь привлекать миллион подписчик YouTube количество просмотр видео расти каждый месяц выигрывать награда  « космополитан »  хороший блог красота 2011 год следующий признавать хороший бьютя блогер зоя получать звание популярный британский блогер 2013 год Radio 1 Teen Awards 2014 м удостаиваться звание самый любимый блогер великобритания Nickelodeon Kid ’ s Choice Awards награждение Teen Choice Awards 2014 год зоя называть  « веб звезда »  красота мода тэг zoe sugg zoella youtube girl online девушка online девушка онлайн zozeebo'"
      ]
     },
     "execution_count": 65,
     "metadata": {},
     "output_type": "execute_result"
    }
   ],
   "source": [
    "lemmatize_and_filter(df['Описание'].values[0])"
   ]
  },
  {
   "cell_type": "code",
   "execution_count": 66,
   "id": "118aebd8",
   "metadata": {},
   "outputs": [],
   "source": [
    "data_preprocessed = df.copy()"
   ]
  },
  {
   "cell_type": "code",
   "execution_count": 67,
   "id": "eb9bd6b7",
   "metadata": {},
   "outputs": [],
   "source": [
    "data_preprocessed['Описание'] = data_preprocessed['Описание'].astype(str)"
   ]
  },
  {
   "cell_type": "code",
   "execution_count": 68,
   "id": "3c3e95a8",
   "metadata": {},
   "outputs": [],
   "source": [
    "import re\n",
    "regex = re.compile(r'[А-Яа-яA-zёЁ-]+') # ёЁ идут отдельно!\n",
    "\n",
    "def words_only(text, regex=regex):\n",
    "    try:\n",
    "        return \" \".join(regex.findall(text)).lower() # to lower case\n",
    "    except:\n",
    "        return \"\""
   ]
  },
  {
   "cell_type": "code",
   "execution_count": 69,
   "id": "ce59ef6c",
   "metadata": {},
   "outputs": [],
   "source": [
    "data_preprocessed['Описание'] = df['Описание'].apply(lambda text: words_only(text))"
   ]
  },
  {
   "cell_type": "code",
   "execution_count": 70,
   "id": "9e64eeae",
   "metadata": {},
   "outputs": [
    {
     "data": {
      "text/plain": [
       "'зои сагг известная как zoella - двадцатичетырехлетний блогер видеоблогер из брайтона великобритания ее блоги о красоте моде и стиле жизни привлекли миллионы подписчиков на youtube а количество просмотров видео растет с каждым месяцем она выиграла награду космополитан за лучший блог о красоте в году а в следующем была признана лучшим бьюти-блогером зои получила звание самого популярного британского блогера в году на radio teen awards а в -м удостоилась звания самого любимого блогера великобритании на nickelodeon kid s choice awards на награждении teen choice awards года зои назвали веб-звездой красоты и моды тэги zoe sugg zoella youtube girl online девушка online девушка онлайн zozeebo'"
      ]
     },
     "execution_count": 70,
     "metadata": {},
     "output_type": "execute_result"
    }
   ],
   "source": [
    "data_preprocessed['Описание'].values[0]"
   ]
  },
  {
   "cell_type": "code",
   "execution_count": 71,
   "id": "77fa00f4",
   "metadata": {},
   "outputs": [
    {
     "data": {
      "text/plain": [
       "'зоя сагга известный zoella двадцатичетырехлетний блогер видеоблогер брайтон великобритания блог красота мода стиль жизнь привлекать миллион подписчик youtube количество просмотр видео расти каждый месяц выигрывать награда космополитан хороший блог красота год следующий признавать хороший бьютя блогер зоя получать звание популярный британский блогер год radio teen awards м удостаиваться звание самый любимый блогер великобритания nickelodeon kid s choice awards награждение teen choice awards год зоя называть веб звезда красота мода тэг zoe sugg zoella youtube girl online девушка online девушка онлайн zozeebo'"
      ]
     },
     "execution_count": 71,
     "metadata": {},
     "output_type": "execute_result"
    }
   ],
   "source": [
    "lemmatize_and_filter(data_preprocessed['Описание'].values[0])"
   ]
  },
  {
   "cell_type": "code",
   "execution_count": 29,
   "id": "fb225412",
   "metadata": {},
   "outputs": [],
   "source": [
    "data_preprocessed['Описание'] = data_preprocessed['Описание'].apply(lambda text: lemmatize_and_filter(text))"
   ]
  },
  {
   "cell_type": "code",
   "execution_count": 30,
   "id": "e0f1a7ff",
   "metadata": {},
   "outputs": [
    {
     "data": {
      "text/plain": [
       "'зоя сагга известный zoella двадцатичетырехлетний блогер видеоблогер брайтон великобритания блог красота мода стиль жизнь привлекать миллион подписчик youtube количество просмотр видео расти каждый месяц выигрывать награда космополитан хороший блог красота год следующий признавать хороший бьютя блогер зоя получать звание популярный британский блогер год radio teen awards м удостаиваться звание самый любимый блогер великобритания nickelodeon kid s choice awards награждение teen choice awards год зоя называть веб звезда красота мода тэг zoe sugg zoella youtube girl online девушка online девушка онлайн zozeebo'"
      ]
     },
     "execution_count": 30,
     "metadata": {},
     "output_type": "execute_result"
    }
   ],
   "source": [
    "data_preprocessed['Описание'].values[0]"
   ]
  },
  {
   "cell_type": "code",
   "execution_count": 31,
   "id": "b1571d50",
   "metadata": {},
   "outputs": [
    {
     "data": {
      "text/plain": [
       "((473,), (473,))"
      ]
     },
     "execution_count": 31,
     "metadata": {},
     "output_type": "execute_result"
    }
   ],
   "source": [
    "#Сохраним в X все колонки признаки, а в y - целевую переменную.\n",
    "X = data_preprocessed['Описание']\n",
    "y = data_preprocessed['Рейтинг']\n",
    "\n",
    "X.shape, y.shape"
   ]
  },
  {
   "cell_type": "code",
   "execution_count": 32,
   "id": "395b51fb",
   "metadata": {},
   "outputs": [
    {
     "data": {
      "text/plain": [
       "((331,), (142,), (331,), (142,))"
      ]
     },
     "execution_count": 32,
     "metadata": {},
     "output_type": "execute_result"
    }
   ],
   "source": [
    "#Разобьем выборку на train/test, отложив наблюдений для тестирования.\n",
    "from sklearn.model_selection import train_test_split\n",
    "\n",
    "X_train, X_test, y_train, y_test = train_test_split(X, y, test_size=0.3, random_state=42)\n",
    "\n",
    "X_train.shape, X_test.shape, y_train.shape, y_test.shape"
   ]
  },
  {
   "cell_type": "code",
   "execution_count": 33,
   "id": "e45a2a71",
   "metadata": {},
   "outputs": [
    {
     "data": {
      "text/plain": [
       "matrix([[0.        , 0.        , 0.        , ..., 0.        , 0.        ,\n",
       "         0.        ],\n",
       "        [0.        , 0.        , 1.92233305, ..., 0.        , 0.        ,\n",
       "         0.        ],\n",
       "        [0.        , 0.        , 1.92233305, ..., 0.        , 0.        ,\n",
       "         0.        ],\n",
       "        ...,\n",
       "        [2.85389125, 0.        , 0.        , ..., 2.43568712, 0.        ,\n",
       "         0.        ],\n",
       "        [0.        , 0.        , 0.        , ..., 0.        , 0.        ,\n",
       "         0.        ],\n",
       "        [0.        , 3.54703843, 0.        , ..., 0.        , 0.        ,\n",
       "         0.        ]])"
      ]
     },
     "execution_count": 33,
     "metadata": {},
     "output_type": "execute_result"
    }
   ],
   "source": [
    "#вычисляем tf-idf\n",
    "from sklearn.feature_extraction.text import TfidfVectorizer\n",
    "\n",
    "tfidf_model = TfidfVectorizer(max_df=0.7, min_df=5,\n",
    "                              max_features=100,\n",
    "                              stop_words='english',\n",
    "                              ngram_range=(1,2),\n",
    "                              norm=None)\n",
    "\n",
    "tfidf = tfidf_model.fit_transform(X_train).todense()\n",
    "tfidf"
   ]
  },
  {
   "cell_type": "code",
   "execution_count": 34,
   "id": "faf7ee9a",
   "metadata": {},
   "outputs": [
    {
     "data": {
      "text/plain": [
       "array(['бестселлер', 'большой', 'весь', 'вместе', 'война', 'вопрос',\n",
       "       'время', 'второй', 'герой', 'главный'], dtype=object)"
      ]
     },
     "execution_count": 34,
     "metadata": {},
     "output_type": "execute_result"
    }
   ],
   "source": [
    "# Топ-10 слов\n",
    "tfidf_model.get_feature_names_out()[:10]"
   ]
  },
  {
   "cell_type": "code",
   "execution_count": 35,
   "id": "6f492757",
   "metadata": {},
   "outputs": [
    {
     "data": {
      "text/plain": [
       "{'отношение': 45,\n",
       " 'оставаться': 44,\n",
       " 'свет': 70,\n",
       " 'женщина': 20,\n",
       " 'книга': 29,\n",
       " 'находить': 37,\n",
       " 'сила': 77,\n",
       " 'жить': 22,\n",
       " 'просто': 62,\n",
       " 'прошлое': 63,\n",
       " 'вопрос': 5,\n",
       " 'сделать': 72,\n",
       " 'становиться': 85,\n",
       " 'свой': 71,\n",
       " 'счастливый': 88,\n",
       " 'триллер': 92,\n",
       " 'история': 26,\n",
       " 'также': 90,\n",
       " 'друг': 17,\n",
       " 'весь': 2,\n",
       " 'мир': 34,\n",
       " 'наш': 39,\n",
       " 'город': 11,\n",
       " 'очень': 46,\n",
       " 'тайна': 89,\n",
       " 'новый': 41,\n",
       " 'дом': 16,\n",
       " 'девушка': 12,\n",
       " 'мочь': 35,\n",
       " 'почему': 56,\n",
       " 'дело': 14,\n",
       " 'начинать': 38,\n",
       " 'собственный': 82,\n",
       " 'расследование': 65,\n",
       " 'год': 10,\n",
       " 'бестселлер': 0,\n",
       " 'создавать': 83,\n",
       " 'жизнь': 21,\n",
       " 'настоящий': 36,\n",
       " 'любовь': 32,\n",
       " 'полный': 50,\n",
       " 'последний': 55,\n",
       " 'семья': 73,\n",
       " 'самый': 69,\n",
       " 'время': 6,\n",
       " 'чувство': 98,\n",
       " 'день': 15,\n",
       " 'сердце': 74,\n",
       " 'роман': 68,\n",
       " 'парень': 47,\n",
       " 'каждый': 27,\n",
       " 'герой': 8,\n",
       " 'получать': 51,\n",
       " 'смерть': 80,\n",
       " 'решать': 67,\n",
       " 'большой': 1,\n",
       " 'человек': 97,\n",
       " 'однажды': 42,\n",
       " 'школа': 99,\n",
       " 'помогать': 52,\n",
       " 'смочь': 81,\n",
       " 'известный': 25,\n",
       " 'произведение': 61,\n",
       " 'оказываться': 43,\n",
       " 'первый': 48,\n",
       " 'серия': 75,\n",
       " 'популярный': 54,\n",
       " 'часть': 96,\n",
       " 'война': 4,\n",
       " 'душа': 19,\n",
       " 'любить': 31,\n",
       " 'хотеть': 95,\n",
       " 'любимый': 30,\n",
       " 'приходиться': 60,\n",
       " 'то': 91,\n",
       " 'судьба': 87,\n",
       " 'друг друг': 18,\n",
       " 'премия': 58,\n",
       " 'работа': 64,\n",
       " 'второй': 7,\n",
       " 'главный': 9,\n",
       " 'понимать': 53,\n",
       " 'спасать': 84,\n",
       " 'место': 33,\n",
       " 'писательница': 49,\n",
       " 'сказка': 78,\n",
       " 'ребенок': 66,\n",
       " 'узнавать': 93,\n",
       " 'знать': 24,\n",
       " 'никто': 40,\n",
       " 'зло': 23,\n",
       " 'делать': 13,\n",
       " 'сторона': 86,\n",
       " 'хороший': 94,\n",
       " 'казаться': 28,\n",
       " 'вместе': 3,\n",
       " 'приключение': 59,\n",
       " 'слово': 79,\n",
       " 'правда': 57,\n",
       " 'сестра': 76}"
      ]
     },
     "execution_count": 35,
     "metadata": {},
     "output_type": "execute_result"
    }
   ],
   "source": [
    "tfidf_model.vocabulary_"
   ]
  },
  {
   "cell_type": "code",
   "execution_count": 36,
   "id": "8582fd26",
   "metadata": {},
   "outputs": [
    {
     "data": {
      "text/html": [
       "<div>\n",
       "<style scoped>\n",
       "    .dataframe tbody tr th:only-of-type {\n",
       "        vertical-align: middle;\n",
       "    }\n",
       "\n",
       "    .dataframe tbody tr th {\n",
       "        vertical-align: top;\n",
       "    }\n",
       "\n",
       "    .dataframe thead th {\n",
       "        text-align: right;\n",
       "    }\n",
       "</style>\n",
       "<table border=\"1\" class=\"dataframe\">\n",
       "  <thead>\n",
       "    <tr style=\"text-align: right;\">\n",
       "      <th></th>\n",
       "      <th>бестселлер</th>\n",
       "      <th>большой</th>\n",
       "      <th>весь</th>\n",
       "      <th>вместе</th>\n",
       "      <th>война</th>\n",
       "      <th>вопрос</th>\n",
       "      <th>время</th>\n",
       "      <th>второй</th>\n",
       "      <th>герой</th>\n",
       "      <th>главный</th>\n",
       "      <th>...</th>\n",
       "      <th>также</th>\n",
       "      <th>то</th>\n",
       "      <th>триллер</th>\n",
       "      <th>узнавать</th>\n",
       "      <th>хороший</th>\n",
       "      <th>хотеть</th>\n",
       "      <th>часть</th>\n",
       "      <th>человек</th>\n",
       "      <th>чувство</th>\n",
       "      <th>школа</th>\n",
       "    </tr>\n",
       "  </thead>\n",
       "  <tbody>\n",
       "    <tr>\n",
       "      <th>0</th>\n",
       "      <td>0.000000</td>\n",
       "      <td>0.000000</td>\n",
       "      <td>0.000000</td>\n",
       "      <td>0.000000</td>\n",
       "      <td>0.0</td>\n",
       "      <td>3.627081</td>\n",
       "      <td>0.000000</td>\n",
       "      <td>0.000000</td>\n",
       "      <td>0.000000</td>\n",
       "      <td>0.0</td>\n",
       "      <td>...</td>\n",
       "      <td>0.000000</td>\n",
       "      <td>0.0</td>\n",
       "      <td>0.000000</td>\n",
       "      <td>0.0</td>\n",
       "      <td>0.000000</td>\n",
       "      <td>0.00000</td>\n",
       "      <td>0.0</td>\n",
       "      <td>0.000000</td>\n",
       "      <td>0.0</td>\n",
       "      <td>0.0</td>\n",
       "    </tr>\n",
       "    <tr>\n",
       "      <th>1</th>\n",
       "      <td>0.000000</td>\n",
       "      <td>0.000000</td>\n",
       "      <td>1.922333</td>\n",
       "      <td>0.000000</td>\n",
       "      <td>0.0</td>\n",
       "      <td>0.000000</td>\n",
       "      <td>0.000000</td>\n",
       "      <td>0.000000</td>\n",
       "      <td>0.000000</td>\n",
       "      <td>0.0</td>\n",
       "      <td>...</td>\n",
       "      <td>3.586259</td>\n",
       "      <td>0.0</td>\n",
       "      <td>8.065092</td>\n",
       "      <td>0.0</td>\n",
       "      <td>0.000000</td>\n",
       "      <td>0.00000</td>\n",
       "      <td>0.0</td>\n",
       "      <td>0.000000</td>\n",
       "      <td>0.0</td>\n",
       "      <td>0.0</td>\n",
       "    </tr>\n",
       "    <tr>\n",
       "      <th>2</th>\n",
       "      <td>0.000000</td>\n",
       "      <td>0.000000</td>\n",
       "      <td>1.922333</td>\n",
       "      <td>0.000000</td>\n",
       "      <td>0.0</td>\n",
       "      <td>0.000000</td>\n",
       "      <td>0.000000</td>\n",
       "      <td>0.000000</td>\n",
       "      <td>0.000000</td>\n",
       "      <td>0.0</td>\n",
       "      <td>...</td>\n",
       "      <td>0.000000</td>\n",
       "      <td>0.0</td>\n",
       "      <td>0.000000</td>\n",
       "      <td>0.0</td>\n",
       "      <td>0.000000</td>\n",
       "      <td>0.00000</td>\n",
       "      <td>0.0</td>\n",
       "      <td>0.000000</td>\n",
       "      <td>0.0</td>\n",
       "      <td>0.0</td>\n",
       "    </tr>\n",
       "    <tr>\n",
       "      <th>3</th>\n",
       "      <td>2.853891</td>\n",
       "      <td>0.000000</td>\n",
       "      <td>0.000000</td>\n",
       "      <td>0.000000</td>\n",
       "      <td>0.0</td>\n",
       "      <td>0.000000</td>\n",
       "      <td>0.000000</td>\n",
       "      <td>0.000000</td>\n",
       "      <td>0.000000</td>\n",
       "      <td>0.0</td>\n",
       "      <td>...</td>\n",
       "      <td>0.000000</td>\n",
       "      <td>0.0</td>\n",
       "      <td>0.000000</td>\n",
       "      <td>0.0</td>\n",
       "      <td>0.000000</td>\n",
       "      <td>0.00000</td>\n",
       "      <td>0.0</td>\n",
       "      <td>0.000000</td>\n",
       "      <td>0.0</td>\n",
       "      <td>0.0</td>\n",
       "    </tr>\n",
       "    <tr>\n",
       "      <th>4</th>\n",
       "      <td>0.000000</td>\n",
       "      <td>0.000000</td>\n",
       "      <td>1.922333</td>\n",
       "      <td>0.000000</td>\n",
       "      <td>0.0</td>\n",
       "      <td>3.627081</td>\n",
       "      <td>0.000000</td>\n",
       "      <td>0.000000</td>\n",
       "      <td>0.000000</td>\n",
       "      <td>0.0</td>\n",
       "      <td>...</td>\n",
       "      <td>0.000000</td>\n",
       "      <td>0.0</td>\n",
       "      <td>0.000000</td>\n",
       "      <td>0.0</td>\n",
       "      <td>0.000000</td>\n",
       "      <td>0.00000</td>\n",
       "      <td>0.0</td>\n",
       "      <td>0.000000</td>\n",
       "      <td>0.0</td>\n",
       "      <td>0.0</td>\n",
       "    </tr>\n",
       "    <tr>\n",
       "      <th>...</th>\n",
       "      <td>...</td>\n",
       "      <td>...</td>\n",
       "      <td>...</td>\n",
       "      <td>...</td>\n",
       "      <td>...</td>\n",
       "      <td>...</td>\n",
       "      <td>...</td>\n",
       "      <td>...</td>\n",
       "      <td>...</td>\n",
       "      <td>...</td>\n",
       "      <td>...</td>\n",
       "      <td>...</td>\n",
       "      <td>...</td>\n",
       "      <td>...</td>\n",
       "      <td>...</td>\n",
       "      <td>...</td>\n",
       "      <td>...</td>\n",
       "      <td>...</td>\n",
       "      <td>...</td>\n",
       "      <td>...</td>\n",
       "      <td>...</td>\n",
       "    </tr>\n",
       "    <tr>\n",
       "      <th>326</th>\n",
       "      <td>0.000000</td>\n",
       "      <td>0.000000</td>\n",
       "      <td>0.000000</td>\n",
       "      <td>3.278774</td>\n",
       "      <td>0.0</td>\n",
       "      <td>0.000000</td>\n",
       "      <td>0.000000</td>\n",
       "      <td>0.000000</td>\n",
       "      <td>0.000000</td>\n",
       "      <td>0.0</td>\n",
       "      <td>...</td>\n",
       "      <td>0.000000</td>\n",
       "      <td>0.0</td>\n",
       "      <td>0.000000</td>\n",
       "      <td>0.0</td>\n",
       "      <td>0.000000</td>\n",
       "      <td>0.00000</td>\n",
       "      <td>0.0</td>\n",
       "      <td>0.000000</td>\n",
       "      <td>0.0</td>\n",
       "      <td>0.0</td>\n",
       "    </tr>\n",
       "    <tr>\n",
       "      <th>327</th>\n",
       "      <td>0.000000</td>\n",
       "      <td>0.000000</td>\n",
       "      <td>1.922333</td>\n",
       "      <td>0.000000</td>\n",
       "      <td>0.0</td>\n",
       "      <td>0.000000</td>\n",
       "      <td>0.000000</td>\n",
       "      <td>0.000000</td>\n",
       "      <td>0.000000</td>\n",
       "      <td>0.0</td>\n",
       "      <td>...</td>\n",
       "      <td>3.586259</td>\n",
       "      <td>0.0</td>\n",
       "      <td>0.000000</td>\n",
       "      <td>0.0</td>\n",
       "      <td>0.000000</td>\n",
       "      <td>3.47293</td>\n",
       "      <td>0.0</td>\n",
       "      <td>2.435687</td>\n",
       "      <td>0.0</td>\n",
       "      <td>0.0</td>\n",
       "    </tr>\n",
       "    <tr>\n",
       "      <th>328</th>\n",
       "      <td>2.853891</td>\n",
       "      <td>0.000000</td>\n",
       "      <td>0.000000</td>\n",
       "      <td>0.000000</td>\n",
       "      <td>0.0</td>\n",
       "      <td>0.000000</td>\n",
       "      <td>2.694261</td>\n",
       "      <td>0.000000</td>\n",
       "      <td>0.000000</td>\n",
       "      <td>0.0</td>\n",
       "      <td>...</td>\n",
       "      <td>0.000000</td>\n",
       "      <td>0.0</td>\n",
       "      <td>0.000000</td>\n",
       "      <td>0.0</td>\n",
       "      <td>0.000000</td>\n",
       "      <td>0.00000</td>\n",
       "      <td>0.0</td>\n",
       "      <td>2.435687</td>\n",
       "      <td>0.0</td>\n",
       "      <td>0.0</td>\n",
       "    </tr>\n",
       "    <tr>\n",
       "      <th>329</th>\n",
       "      <td>0.000000</td>\n",
       "      <td>0.000000</td>\n",
       "      <td>0.000000</td>\n",
       "      <td>0.000000</td>\n",
       "      <td>0.0</td>\n",
       "      <td>0.000000</td>\n",
       "      <td>0.000000</td>\n",
       "      <td>3.437839</td>\n",
       "      <td>0.000000</td>\n",
       "      <td>0.0</td>\n",
       "      <td>...</td>\n",
       "      <td>0.000000</td>\n",
       "      <td>0.0</td>\n",
       "      <td>0.000000</td>\n",
       "      <td>0.0</td>\n",
       "      <td>0.000000</td>\n",
       "      <td>0.00000</td>\n",
       "      <td>0.0</td>\n",
       "      <td>0.000000</td>\n",
       "      <td>0.0</td>\n",
       "      <td>0.0</td>\n",
       "    </tr>\n",
       "    <tr>\n",
       "      <th>330</th>\n",
       "      <td>0.000000</td>\n",
       "      <td>3.547038</td>\n",
       "      <td>0.000000</td>\n",
       "      <td>0.000000</td>\n",
       "      <td>0.0</td>\n",
       "      <td>0.000000</td>\n",
       "      <td>0.000000</td>\n",
       "      <td>0.000000</td>\n",
       "      <td>2.853891</td>\n",
       "      <td>0.0</td>\n",
       "      <td>...</td>\n",
       "      <td>0.000000</td>\n",
       "      <td>0.0</td>\n",
       "      <td>0.000000</td>\n",
       "      <td>0.0</td>\n",
       "      <td>2.834843</td>\n",
       "      <td>0.00000</td>\n",
       "      <td>0.0</td>\n",
       "      <td>0.000000</td>\n",
       "      <td>0.0</td>\n",
       "      <td>0.0</td>\n",
       "    </tr>\n",
       "  </tbody>\n",
       "</table>\n",
       "<p>331 rows × 100 columns</p>\n",
       "</div>"
      ],
      "text/plain": [
       "     бестселлер   большой      весь    вместе  война    вопрос     время  \\\n",
       "0      0.000000  0.000000  0.000000  0.000000    0.0  3.627081  0.000000   \n",
       "1      0.000000  0.000000  1.922333  0.000000    0.0  0.000000  0.000000   \n",
       "2      0.000000  0.000000  1.922333  0.000000    0.0  0.000000  0.000000   \n",
       "3      2.853891  0.000000  0.000000  0.000000    0.0  0.000000  0.000000   \n",
       "4      0.000000  0.000000  1.922333  0.000000    0.0  3.627081  0.000000   \n",
       "..          ...       ...       ...       ...    ...       ...       ...   \n",
       "326    0.000000  0.000000  0.000000  3.278774    0.0  0.000000  0.000000   \n",
       "327    0.000000  0.000000  1.922333  0.000000    0.0  0.000000  0.000000   \n",
       "328    2.853891  0.000000  0.000000  0.000000    0.0  0.000000  2.694261   \n",
       "329    0.000000  0.000000  0.000000  0.000000    0.0  0.000000  0.000000   \n",
       "330    0.000000  3.547038  0.000000  0.000000    0.0  0.000000  0.000000   \n",
       "\n",
       "       второй     герой  главный  ...     также   то   триллер  узнавать  \\\n",
       "0    0.000000  0.000000      0.0  ...  0.000000  0.0  0.000000       0.0   \n",
       "1    0.000000  0.000000      0.0  ...  3.586259  0.0  8.065092       0.0   \n",
       "2    0.000000  0.000000      0.0  ...  0.000000  0.0  0.000000       0.0   \n",
       "3    0.000000  0.000000      0.0  ...  0.000000  0.0  0.000000       0.0   \n",
       "4    0.000000  0.000000      0.0  ...  0.000000  0.0  0.000000       0.0   \n",
       "..        ...       ...      ...  ...       ...  ...       ...       ...   \n",
       "326  0.000000  0.000000      0.0  ...  0.000000  0.0  0.000000       0.0   \n",
       "327  0.000000  0.000000      0.0  ...  3.586259  0.0  0.000000       0.0   \n",
       "328  0.000000  0.000000      0.0  ...  0.000000  0.0  0.000000       0.0   \n",
       "329  3.437839  0.000000      0.0  ...  0.000000  0.0  0.000000       0.0   \n",
       "330  0.000000  2.853891      0.0  ...  0.000000  0.0  0.000000       0.0   \n",
       "\n",
       "      хороший   хотеть  часть   человек  чувство  школа  \n",
       "0    0.000000  0.00000    0.0  0.000000      0.0    0.0  \n",
       "1    0.000000  0.00000    0.0  0.000000      0.0    0.0  \n",
       "2    0.000000  0.00000    0.0  0.000000      0.0    0.0  \n",
       "3    0.000000  0.00000    0.0  0.000000      0.0    0.0  \n",
       "4    0.000000  0.00000    0.0  0.000000      0.0    0.0  \n",
       "..        ...      ...    ...       ...      ...    ...  \n",
       "326  0.000000  0.00000    0.0  0.000000      0.0    0.0  \n",
       "327  0.000000  3.47293    0.0  2.435687      0.0    0.0  \n",
       "328  0.000000  0.00000    0.0  2.435687      0.0    0.0  \n",
       "329  0.000000  0.00000    0.0  0.000000      0.0    0.0  \n",
       "330  2.834843  0.00000    0.0  0.000000      0.0    0.0  \n",
       "\n",
       "[331 rows x 100 columns]"
      ]
     },
     "execution_count": 36,
     "metadata": {},
     "output_type": "execute_result"
    }
   ],
   "source": [
    "#Создадим табличку для дальнейшей работы.\n",
    "\n",
    "train_data = pd.DataFrame(\n",
    "    tfidf_model.fit_transform(X_train).todense(),\n",
    "    columns=tfidf_model.get_feature_names_out()\n",
    ")\n",
    "train_data"
   ]
  },
  {
   "cell_type": "code",
   "execution_count": 38,
   "id": "9712b59f",
   "metadata": {},
   "outputs": [
    {
     "data": {
      "text/html": [
       "<div>\n",
       "<style scoped>\n",
       "    .dataframe tbody tr th:only-of-type {\n",
       "        vertical-align: middle;\n",
       "    }\n",
       "\n",
       "    .dataframe tbody tr th {\n",
       "        vertical-align: top;\n",
       "    }\n",
       "\n",
       "    .dataframe thead th {\n",
       "        text-align: right;\n",
       "    }\n",
       "</style>\n",
       "<table border=\"1\" class=\"dataframe\">\n",
       "  <thead>\n",
       "    <tr style=\"text-align: right;\">\n",
       "      <th></th>\n",
       "      <th>бестселлер</th>\n",
       "      <th>большой</th>\n",
       "      <th>весь</th>\n",
       "      <th>вместе</th>\n",
       "      <th>война</th>\n",
       "      <th>вопрос</th>\n",
       "      <th>время</th>\n",
       "      <th>второй</th>\n",
       "      <th>герой</th>\n",
       "      <th>главный</th>\n",
       "      <th>...</th>\n",
       "      <th>также</th>\n",
       "      <th>то</th>\n",
       "      <th>триллер</th>\n",
       "      <th>узнавать</th>\n",
       "      <th>хороший</th>\n",
       "      <th>хотеть</th>\n",
       "      <th>часть</th>\n",
       "      <th>человек</th>\n",
       "      <th>чувство</th>\n",
       "      <th>школа</th>\n",
       "    </tr>\n",
       "  </thead>\n",
       "  <tbody>\n",
       "    <tr>\n",
       "      <th>0</th>\n",
       "      <td>0.000000</td>\n",
       "      <td>0.000000</td>\n",
       "      <td>0.000000</td>\n",
       "      <td>0.000000</td>\n",
       "      <td>0.000000</td>\n",
       "      <td>0.000000</td>\n",
       "      <td>0.000000</td>\n",
       "      <td>0.000000</td>\n",
       "      <td>0.000000</td>\n",
       "      <td>0.0</td>\n",
       "      <td>...</td>\n",
       "      <td>0.000000</td>\n",
       "      <td>0.000000</td>\n",
       "      <td>0.0</td>\n",
       "      <td>0.000000</td>\n",
       "      <td>0.000000</td>\n",
       "      <td>0.00000</td>\n",
       "      <td>0.000000</td>\n",
       "      <td>0.000000</td>\n",
       "      <td>0.000000</td>\n",
       "      <td>0.000000</td>\n",
       "    </tr>\n",
       "    <tr>\n",
       "      <th>1</th>\n",
       "      <td>0.000000</td>\n",
       "      <td>3.547038</td>\n",
       "      <td>1.922333</td>\n",
       "      <td>0.000000</td>\n",
       "      <td>0.000000</td>\n",
       "      <td>3.627081</td>\n",
       "      <td>0.000000</td>\n",
       "      <td>0.000000</td>\n",
       "      <td>0.000000</td>\n",
       "      <td>0.0</td>\n",
       "      <td>...</td>\n",
       "      <td>0.000000</td>\n",
       "      <td>0.000000</td>\n",
       "      <td>0.0</td>\n",
       "      <td>0.000000</td>\n",
       "      <td>2.834843</td>\n",
       "      <td>0.00000</td>\n",
       "      <td>0.000000</td>\n",
       "      <td>0.000000</td>\n",
       "      <td>0.000000</td>\n",
       "      <td>3.809403</td>\n",
       "    </tr>\n",
       "    <tr>\n",
       "      <th>2</th>\n",
       "      <td>0.000000</td>\n",
       "      <td>0.000000</td>\n",
       "      <td>1.922333</td>\n",
       "      <td>0.000000</td>\n",
       "      <td>3.586259</td>\n",
       "      <td>0.000000</td>\n",
       "      <td>0.000000</td>\n",
       "      <td>0.000000</td>\n",
       "      <td>0.000000</td>\n",
       "      <td>0.0</td>\n",
       "      <td>...</td>\n",
       "      <td>0.000000</td>\n",
       "      <td>0.000000</td>\n",
       "      <td>0.0</td>\n",
       "      <td>0.000000</td>\n",
       "      <td>0.000000</td>\n",
       "      <td>0.00000</td>\n",
       "      <td>0.000000</td>\n",
       "      <td>0.000000</td>\n",
       "      <td>0.000000</td>\n",
       "      <td>0.000000</td>\n",
       "    </tr>\n",
       "    <tr>\n",
       "      <th>3</th>\n",
       "      <td>0.000000</td>\n",
       "      <td>0.000000</td>\n",
       "      <td>0.000000</td>\n",
       "      <td>0.000000</td>\n",
       "      <td>0.000000</td>\n",
       "      <td>0.000000</td>\n",
       "      <td>0.000000</td>\n",
       "      <td>0.000000</td>\n",
       "      <td>0.000000</td>\n",
       "      <td>0.0</td>\n",
       "      <td>...</td>\n",
       "      <td>0.000000</td>\n",
       "      <td>3.339399</td>\n",
       "      <td>0.0</td>\n",
       "      <td>0.000000</td>\n",
       "      <td>0.000000</td>\n",
       "      <td>0.00000</td>\n",
       "      <td>0.000000</td>\n",
       "      <td>0.000000</td>\n",
       "      <td>0.000000</td>\n",
       "      <td>0.000000</td>\n",
       "    </tr>\n",
       "    <tr>\n",
       "      <th>4</th>\n",
       "      <td>0.000000</td>\n",
       "      <td>0.000000</td>\n",
       "      <td>1.922333</td>\n",
       "      <td>0.000000</td>\n",
       "      <td>10.758777</td>\n",
       "      <td>0.000000</td>\n",
       "      <td>2.694261</td>\n",
       "      <td>3.437839</td>\n",
       "      <td>0.000000</td>\n",
       "      <td>0.0</td>\n",
       "      <td>...</td>\n",
       "      <td>0.000000</td>\n",
       "      <td>0.000000</td>\n",
       "      <td>0.0</td>\n",
       "      <td>0.000000</td>\n",
       "      <td>0.000000</td>\n",
       "      <td>0.00000</td>\n",
       "      <td>0.000000</td>\n",
       "      <td>0.000000</td>\n",
       "      <td>0.000000</td>\n",
       "      <td>0.000000</td>\n",
       "    </tr>\n",
       "    <tr>\n",
       "      <th>...</th>\n",
       "      <td>...</td>\n",
       "      <td>...</td>\n",
       "      <td>...</td>\n",
       "      <td>...</td>\n",
       "      <td>...</td>\n",
       "      <td>...</td>\n",
       "      <td>...</td>\n",
       "      <td>...</td>\n",
       "      <td>...</td>\n",
       "      <td>...</td>\n",
       "      <td>...</td>\n",
       "      <td>...</td>\n",
       "      <td>...</td>\n",
       "      <td>...</td>\n",
       "      <td>...</td>\n",
       "      <td>...</td>\n",
       "      <td>...</td>\n",
       "      <td>...</td>\n",
       "      <td>...</td>\n",
       "      <td>...</td>\n",
       "      <td>...</td>\n",
       "    </tr>\n",
       "    <tr>\n",
       "      <th>137</th>\n",
       "      <td>2.853891</td>\n",
       "      <td>0.000000</td>\n",
       "      <td>0.000000</td>\n",
       "      <td>6.557549</td>\n",
       "      <td>3.586259</td>\n",
       "      <td>0.000000</td>\n",
       "      <td>0.000000</td>\n",
       "      <td>0.000000</td>\n",
       "      <td>2.853891</td>\n",
       "      <td>0.0</td>\n",
       "      <td>...</td>\n",
       "      <td>0.000000</td>\n",
       "      <td>3.339399</td>\n",
       "      <td>0.0</td>\n",
       "      <td>3.167549</td>\n",
       "      <td>0.000000</td>\n",
       "      <td>0.00000</td>\n",
       "      <td>0.000000</td>\n",
       "      <td>2.435687</td>\n",
       "      <td>10.527894</td>\n",
       "      <td>0.000000</td>\n",
       "    </tr>\n",
       "    <tr>\n",
       "      <th>138</th>\n",
       "      <td>0.000000</td>\n",
       "      <td>0.000000</td>\n",
       "      <td>0.000000</td>\n",
       "      <td>0.000000</td>\n",
       "      <td>0.000000</td>\n",
       "      <td>0.000000</td>\n",
       "      <td>2.694261</td>\n",
       "      <td>0.000000</td>\n",
       "      <td>2.853891</td>\n",
       "      <td>0.0</td>\n",
       "      <td>...</td>\n",
       "      <td>0.000000</td>\n",
       "      <td>0.000000</td>\n",
       "      <td>0.0</td>\n",
       "      <td>0.000000</td>\n",
       "      <td>0.000000</td>\n",
       "      <td>3.47293</td>\n",
       "      <td>3.669641</td>\n",
       "      <td>2.435687</td>\n",
       "      <td>0.000000</td>\n",
       "      <td>0.000000</td>\n",
       "    </tr>\n",
       "    <tr>\n",
       "      <th>139</th>\n",
       "      <td>0.000000</td>\n",
       "      <td>0.000000</td>\n",
       "      <td>0.000000</td>\n",
       "      <td>0.000000</td>\n",
       "      <td>0.000000</td>\n",
       "      <td>3.627081</td>\n",
       "      <td>0.000000</td>\n",
       "      <td>0.000000</td>\n",
       "      <td>0.000000</td>\n",
       "      <td>0.0</td>\n",
       "      <td>...</td>\n",
       "      <td>0.000000</td>\n",
       "      <td>3.339399</td>\n",
       "      <td>0.0</td>\n",
       "      <td>0.000000</td>\n",
       "      <td>0.000000</td>\n",
       "      <td>0.00000</td>\n",
       "      <td>0.000000</td>\n",
       "      <td>2.435687</td>\n",
       "      <td>0.000000</td>\n",
       "      <td>0.000000</td>\n",
       "    </tr>\n",
       "    <tr>\n",
       "      <th>140</th>\n",
       "      <td>0.000000</td>\n",
       "      <td>0.000000</td>\n",
       "      <td>1.922333</td>\n",
       "      <td>0.000000</td>\n",
       "      <td>0.000000</td>\n",
       "      <td>0.000000</td>\n",
       "      <td>2.694261</td>\n",
       "      <td>0.000000</td>\n",
       "      <td>0.000000</td>\n",
       "      <td>0.0</td>\n",
       "      <td>...</td>\n",
       "      <td>0.000000</td>\n",
       "      <td>0.000000</td>\n",
       "      <td>0.0</td>\n",
       "      <td>3.167549</td>\n",
       "      <td>0.000000</td>\n",
       "      <td>0.00000</td>\n",
       "      <td>0.000000</td>\n",
       "      <td>0.000000</td>\n",
       "      <td>0.000000</td>\n",
       "      <td>0.000000</td>\n",
       "    </tr>\n",
       "    <tr>\n",
       "      <th>141</th>\n",
       "      <td>0.000000</td>\n",
       "      <td>0.000000</td>\n",
       "      <td>1.922333</td>\n",
       "      <td>3.278774</td>\n",
       "      <td>3.586259</td>\n",
       "      <td>0.000000</td>\n",
       "      <td>0.000000</td>\n",
       "      <td>0.000000</td>\n",
       "      <td>0.000000</td>\n",
       "      <td>0.0</td>\n",
       "      <td>...</td>\n",
       "      <td>3.586259</td>\n",
       "      <td>0.000000</td>\n",
       "      <td>0.0</td>\n",
       "      <td>0.000000</td>\n",
       "      <td>2.834843</td>\n",
       "      <td>0.00000</td>\n",
       "      <td>0.000000</td>\n",
       "      <td>0.000000</td>\n",
       "      <td>0.000000</td>\n",
       "      <td>0.000000</td>\n",
       "    </tr>\n",
       "  </tbody>\n",
       "</table>\n",
       "<p>142 rows × 100 columns</p>\n",
       "</div>"
      ],
      "text/plain": [
       "     бестселлер   большой      весь    вместе      война    вопрос     время  \\\n",
       "0      0.000000  0.000000  0.000000  0.000000   0.000000  0.000000  0.000000   \n",
       "1      0.000000  3.547038  1.922333  0.000000   0.000000  3.627081  0.000000   \n",
       "2      0.000000  0.000000  1.922333  0.000000   3.586259  0.000000  0.000000   \n",
       "3      0.000000  0.000000  0.000000  0.000000   0.000000  0.000000  0.000000   \n",
       "4      0.000000  0.000000  1.922333  0.000000  10.758777  0.000000  2.694261   \n",
       "..          ...       ...       ...       ...        ...       ...       ...   \n",
       "137    2.853891  0.000000  0.000000  6.557549   3.586259  0.000000  0.000000   \n",
       "138    0.000000  0.000000  0.000000  0.000000   0.000000  0.000000  2.694261   \n",
       "139    0.000000  0.000000  0.000000  0.000000   0.000000  3.627081  0.000000   \n",
       "140    0.000000  0.000000  1.922333  0.000000   0.000000  0.000000  2.694261   \n",
       "141    0.000000  0.000000  1.922333  3.278774   3.586259  0.000000  0.000000   \n",
       "\n",
       "       второй     герой  главный  ...     также        то  триллер  узнавать  \\\n",
       "0    0.000000  0.000000      0.0  ...  0.000000  0.000000      0.0  0.000000   \n",
       "1    0.000000  0.000000      0.0  ...  0.000000  0.000000      0.0  0.000000   \n",
       "2    0.000000  0.000000      0.0  ...  0.000000  0.000000      0.0  0.000000   \n",
       "3    0.000000  0.000000      0.0  ...  0.000000  3.339399      0.0  0.000000   \n",
       "4    3.437839  0.000000      0.0  ...  0.000000  0.000000      0.0  0.000000   \n",
       "..        ...       ...      ...  ...       ...       ...      ...       ...   \n",
       "137  0.000000  2.853891      0.0  ...  0.000000  3.339399      0.0  3.167549   \n",
       "138  0.000000  2.853891      0.0  ...  0.000000  0.000000      0.0  0.000000   \n",
       "139  0.000000  0.000000      0.0  ...  0.000000  3.339399      0.0  0.000000   \n",
       "140  0.000000  0.000000      0.0  ...  0.000000  0.000000      0.0  3.167549   \n",
       "141  0.000000  0.000000      0.0  ...  3.586259  0.000000      0.0  0.000000   \n",
       "\n",
       "      хороший   хотеть     часть   человек    чувство     школа  \n",
       "0    0.000000  0.00000  0.000000  0.000000   0.000000  0.000000  \n",
       "1    2.834843  0.00000  0.000000  0.000000   0.000000  3.809403  \n",
       "2    0.000000  0.00000  0.000000  0.000000   0.000000  0.000000  \n",
       "3    0.000000  0.00000  0.000000  0.000000   0.000000  0.000000  \n",
       "4    0.000000  0.00000  0.000000  0.000000   0.000000  0.000000  \n",
       "..        ...      ...       ...       ...        ...       ...  \n",
       "137  0.000000  0.00000  0.000000  2.435687  10.527894  0.000000  \n",
       "138  0.000000  3.47293  3.669641  2.435687   0.000000  0.000000  \n",
       "139  0.000000  0.00000  0.000000  2.435687   0.000000  0.000000  \n",
       "140  0.000000  0.00000  0.000000  0.000000   0.000000  0.000000  \n",
       "141  2.834843  0.00000  0.000000  0.000000   0.000000  0.000000  \n",
       "\n",
       "[142 rows x 100 columns]"
      ]
     },
     "execution_count": 38,
     "metadata": {},
     "output_type": "execute_result"
    }
   ],
   "source": [
    "test_data = pd.DataFrame(\n",
    "    tfidf_model.transform(X_test).todense(),\n",
    "    columns=tfidf_model.get_feature_names_out()\n",
    ")\n",
    "test_data"
   ]
  },
  {
   "cell_type": "markdown",
   "id": "07e34a27",
   "metadata": {},
   "source": [
    "Воспользуемся моделью линейной регрессии и построим модель зависимости текстовое описание книги + средний рейтинг в качестве целевой переменной. Создадим функцию, которая будет вычислять основные метрики качества."
   ]
  },
  {
   "cell_type": "code",
   "execution_count": 73,
   "id": "03a8423c",
   "metadata": {},
   "outputs": [
    {
     "data": {
      "text/html": [
       "<div>\n",
       "<style scoped>\n",
       "    .dataframe tbody tr th:only-of-type {\n",
       "        vertical-align: middle;\n",
       "    }\n",
       "\n",
       "    .dataframe tbody tr th {\n",
       "        vertical-align: top;\n",
       "    }\n",
       "\n",
       "    .dataframe thead th {\n",
       "        text-align: right;\n",
       "    }\n",
       "</style>\n",
       "<table border=\"1\" class=\"dataframe\">\n",
       "  <thead>\n",
       "    <tr style=\"text-align: right;\">\n",
       "      <th></th>\n",
       "    </tr>\n",
       "    <tr>\n",
       "      <th>error_type</th>\n",
       "    </tr>\n",
       "  </thead>\n",
       "  <tbody>\n",
       "    <tr>\n",
       "      <th>MAE</th>\n",
       "    </tr>\n",
       "    <tr>\n",
       "      <th>MSE</th>\n",
       "    </tr>\n",
       "    <tr>\n",
       "      <th>R2</th>\n",
       "    </tr>\n",
       "  </tbody>\n",
       "</table>\n",
       "</div>"
      ],
      "text/plain": [
       "Empty DataFrame\n",
       "Columns: []\n",
       "Index: [MAE, MSE, R2]"
      ]
     },
     "execution_count": 73,
     "metadata": {},
     "output_type": "execute_result"
    }
   ],
   "source": [
    "from sklearn import metrics\n",
    "\n",
    "metrics_table = pd.DataFrame({\"error_type\":[\"MAE\", \"MSE\", \"R2\"]})\n",
    "metrics_table.set_index(\"error_type\")"
   ]
  },
  {
   "cell_type": "code",
   "execution_count": 74,
   "id": "880f52ec",
   "metadata": {},
   "outputs": [
    {
     "name": "stdout",
     "output_type": "stream",
     "text": [
      "Best Score:  -0.013932449979659811\n",
      "Best Params:  {'alpha': 0.51}\n"
     ]
    },
    {
     "data": {
      "text/html": [
       "<div>\n",
       "<style scoped>\n",
       "    .dataframe tbody tr th:only-of-type {\n",
       "        vertical-align: middle;\n",
       "    }\n",
       "\n",
       "    .dataframe tbody tr th {\n",
       "        vertical-align: top;\n",
       "    }\n",
       "\n",
       "    .dataframe thead th {\n",
       "        text-align: right;\n",
       "    }\n",
       "</style>\n",
       "<table border=\"1\" class=\"dataframe\">\n",
       "  <thead>\n",
       "    <tr style=\"text-align: right;\">\n",
       "      <th></th>\n",
       "      <th>error_type</th>\n",
       "      <th>Regressor</th>\n",
       "    </tr>\n",
       "  </thead>\n",
       "  <tbody>\n",
       "    <tr>\n",
       "      <th>0</th>\n",
       "      <td>MAE</td>\n",
       "      <td>1.821631</td>\n",
       "    </tr>\n",
       "    <tr>\n",
       "      <th>1</th>\n",
       "      <td>MSE</td>\n",
       "      <td>3.724358</td>\n",
       "    </tr>\n",
       "    <tr>\n",
       "      <th>2</th>\n",
       "      <td>R2</td>\n",
       "      <td>-0.012667</td>\n",
       "    </tr>\n",
       "  </tbody>\n",
       "</table>\n",
       "</div>"
      ],
      "text/plain": [
       "  error_type  Regressor\n",
       "0        MAE   1.821631\n",
       "1        MSE   3.724358\n",
       "2         R2  -0.012667"
      ]
     },
     "execution_count": 74,
     "metadata": {},
     "output_type": "execute_result"
    }
   ],
   "source": [
    "from sklearn.linear_model import Lasso\n",
    "from sklearn.model_selection import GridSearchCV\n",
    "\n",
    "grid_search = GridSearchCV(estimator=Lasso(), \n",
    "                         param_grid={'alpha': np.arange(0.01, 10, 0.1)}, \n",
    "                         scoring='r2',                          \n",
    "                         n_jobs=-1)\n",
    "grid_search.fit(train_data, y_train)\n",
    "\n",
    "print('Best Score: ', grid_search.best_score_)\n",
    "print('Best Params: ', grid_search.best_params_)\n",
    "\n",
    "y_pred = grid_search.predict(test_data)\n",
    "regressor = grid_search.best_estimator_\n",
    "\n",
    "metrics_table['Regressor'] = [\n",
    "    metrics.mean_absolute_error(y_test, y_pred),\n",
    "    metrics.mean_squared_error(y_test, y_pred),\n",
    "    metrics.r2_score(y_test, y_pred)\n",
    "]\n",
    "\n",
    "metrics_table"
   ]
  },
  {
   "cell_type": "code",
   "execution_count": 75,
   "id": "4807fd1b",
   "metadata": {},
   "outputs": [
    {
     "data": {
      "text/plain": [
       "Index(['бестселлер', 'большой', 'весь', 'вместе', 'война', 'вопрос', 'время',\n",
       "       'второй', 'герой', 'главный', 'год', 'город', 'девушка', 'делать',\n",
       "       'дело', 'день', 'дом', 'друг', 'друг друг', 'душа', 'женщина', 'жизнь',\n",
       "       'жить', 'зло', 'знать', 'известный', 'история', 'каждый', 'казаться',\n",
       "       'книга', 'любимый', 'любить', 'любовь', 'место', 'мир', 'мочь',\n",
       "       'настоящий', 'находить', 'начинать', 'наш', 'никто', 'новый', 'однажды',\n",
       "       'оказываться', 'оставаться', 'отношение', 'очень', 'парень', 'первый',\n",
       "       'писательница', 'полный', 'получать', 'помогать', 'понимать',\n",
       "       'популярный', 'последний', 'почему', 'правда', 'премия', 'приключение',\n",
       "       'приходиться', 'произведение', 'просто', 'прошлое', 'работа',\n",
       "       'расследование', 'ребенок', 'решать', 'роман', 'самый', 'свет', 'свой',\n",
       "       'сделать', 'семья', 'сердце', 'серия', 'сестра', 'сила', 'сказка',\n",
       "       'слово', 'смерть', 'смочь', 'собственный', 'создавать', 'спасать',\n",
       "       'становиться', 'сторона', 'судьба', 'счастливый', 'тайна', 'также',\n",
       "       'то', 'триллер', 'узнавать', 'хороший', 'хотеть', 'часть', 'человек',\n",
       "       'чувство', 'школа'],\n",
       "      dtype='object')"
      ]
     },
     "execution_count": 75,
     "metadata": {},
     "output_type": "execute_result"
    }
   ],
   "source": [
    "#Построим график важности признаков (топ-50 слов)\n",
    "\n",
    "train_data.columns[regressor.coef_!=1]"
   ]
  },
  {
   "cell_type": "code",
   "execution_count": 76,
   "id": "7b072534",
   "metadata": {},
   "outputs": [
    {
     "data": {
      "image/png": "[encoded data removed]",
      "text/plain": [
       "<Figure size 2000x500 with 1 Axes>"
      ]
     },
     "metadata": {},
     "output_type": "display_data"
    }
   ],
   "source": [
    "import matplotlib.pyplot as plt\n",
    "%matplotlib inline\n",
    "\n",
    "featureImportance = pd.DataFrame({\"feature\": train_data.columns[regressor.coef_!=1], \n",
    "                                  \"importance\": regressor.coef_[regressor.coef_!=1]})\n",
    "\n",
    "featureImportance.set_index('feature', inplace=True)\n",
    "featureImportance.sort_values([\"importance\"], ascending=False, inplace=True)\n",
    "\n",
    "featureImportance[\"importance\"].plot(kind='bar', figsize=(20, 5));    \n",
    "plt.title(\"Feature Importance\")\n",
    "plt.xlabel(\"Feature\")\n",
    "plt.ylabel(\"Importance\")\n",
    "plt.show()"
   ]
  },
  {
   "cell_type": "code",
   "execution_count": null,
   "id": "fab0359d",
   "metadata": {},
   "outputs": [],
   "source": []
  }
 ],
 "metadata": {
  "kernelspec": {
   "display_name": "Python 3 (ipykernel)",
   "language": "python",
   "name": "python3"
  },
  "language_info": {
   "codemirror_mode": {
    "name": "ipython",
    "version": 3
   },
   "file_extension": ".py",
   "mimetype": "text/x-python",
   "name": "python",
   "nbconvert_exporter": "python",
   "pygments_lexer": "ipython3",
   "version": "3.11.5"
  }
 },
 "nbformat": 4,
 "nbformat_minor": 5
}
